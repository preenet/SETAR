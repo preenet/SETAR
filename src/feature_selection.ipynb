{
 "cells": [
  {
   "cell_type": "markdown",
   "id": "3bf2df5f",
   "metadata": {},
   "source": [
    "## Feature selection using PMI and MI\n",
    "This notebook applied PMI and MI filtering feature selection method to our corpus.  \n",
    "pree.t@cmu.ac.th"
   ]
  },
  {
   "cell_type": "code",
   "execution_count": null,
   "id": "3b18ad51",
   "metadata": {},
   "outputs": [],
   "source": [
    "import joblib\n"
   ]
  }
 ],
 "metadata": {
  "kernelspec": {
   "display_name": "Python 3 (ipykernel)",
   "language": "python",
   "name": "python3"
  },
  "language_info": {
   "codemirror_mode": {
    "name": "ipython",
    "version": 3
   },
   "file_extension": ".py",
   "mimetype": "text/x-python",
   "name": "python",
   "nbconvert_exporter": "python",
   "pygments_lexer": "ipython3",
   "version": "3.8.8"
  }
 },
 "nbformat": 4,
 "nbformat_minor": 5
}
