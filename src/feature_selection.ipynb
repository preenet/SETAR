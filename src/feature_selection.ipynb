{
 "cells": [
  {
   "cell_type": "markdown",
   "id": "3bf2df5f",
   "metadata": {},
   "source": [
    "## Feature selection using two-step filtering method  \n",
    "We applied a two-step filtering method for bow and tfi-df approaches only.    \n",
    "filter 1 = Variance Threshold  \n",
    "filter 2 = MutualScore Threshold   \n",
    "pree.t@cmu.ac.th  "
   ]
  },
  {
   "cell_type": "code",
   "execution_count": 1,
   "id": "3b18ad51",
   "metadata": {},
   "outputs": [],
   "source": [
    "import joblib\n",
    "import os\n",
    "from sklearn.feature_selection import VarianceThreshold\n",
    "from sklearn.feature_selection import mutual_info_classif\n",
    "\n",
    "os.path.dirname(os.getcwd())\n",
    "\n",
    "model_path = os.path.dirname(os.getcwd()) + '\\\\model\\\\'\n",
    "lexicon_path = os.path.dirname(os.getcwd()) + '\\\\lexicon\\\\'"
   ]
  },
  {
   "cell_type": "code",
   "execution_count": 2,
   "id": "280c10ef",
   "metadata": {},
   "outputs": [],
   "source": [
    "# preparing all data that need to calculate the MI score\n",
    "text_bow1_kt = joblib.load(model_path+'text_bow1_kt.pkl')\n",
    "lex_bow_kt = joblib.load(lexicon_path+'lex_bow1_kt.pkl')\n"
   ]
  },
  {
   "cell_type": "markdown",
   "id": "ceecb126",
   "metadata": {},
   "source": [
    "## Filter 1"
   ]
  },
  {
   "cell_type": "code",
   "execution_count": null,
   "id": "a89994f1",
   "metadata": {},
   "outputs": [],
   "source": [
    "vt = VarianceThreshold(threshold=0.0)\n"
   ]
  },
  {
   "cell_type": "markdown",
   "id": "d86bd7d6",
   "metadata": {},
   "source": [
    "## Filter 2"
   ]
  },
  {
   "cell_type": "code",
   "execution_count": null,
   "id": "1e84316f",
   "metadata": {},
   "outputs": [],
   "source": [
    "# implement a function that calculate MI for each term regarding to the target\n",
    "def calculate_MI(X, y):\n",
    "    mi_dict = {}\n",
    "    return mi_dict"
   ]
  }
 ],
 "metadata": {
  "kernelspec": {
   "display_name": "Python 3 (ipykernel)",
   "language": "python",
   "name": "python3"
  },
  "language_info": {
   "codemirror_mode": {
    "name": "ipython",
    "version": 3
   },
   "file_extension": ".py",
   "mimetype": "text/x-python",
   "name": "python",
   "nbconvert_exporter": "python",
   "pygments_lexer": "ipython3",
   "version": "3.8.8"
  }
 },
 "nbformat": 4,
 "nbformat_minor": 5
}
