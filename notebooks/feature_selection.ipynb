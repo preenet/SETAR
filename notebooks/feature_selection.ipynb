{
 "cells": [
  {
   "cell_type": "markdown",
   "id": "3bf2df5f",
   "metadata": {},
   "source": [
    "## Feature selection using two-stage filtering method  \n",
    "We applied a two-stage filtering feature selection method for both bow and tfi-df text representation only.    \n",
    "filter 1 - remove feature with low variance\n",
    "filter 2 - remove redundant features using MI score   \n",
    "text_bow1_kt:  \n",
    "\n",
    "| Using all features bow1:    | LR = 0.7389736477115117 | (6459 features) |\n",
    "|-----------------------------|-------------------------|-----------------|\n",
    "| With our two-stage FS bow1: | LR = 0.7147018030513176 | (1394 features) |\n",
    "\n",
    "text_bow1_ws:  \n",
    "\n",
    "| Using all features bow1:    | LR = 0.6877531941414771 | (6459 features) |\n",
    "|-----------------------------|-------------------------|-----------------|\n",
    "| With our two-stage FS bow1: | LR = 0.6678092863820505 | (588 features) |\n",
    "\n",
    "\n",
    "pree.t@cmu.ac.th  "
   ]
  },
  {
   "cell_type": "code",
   "execution_count": 13,
   "id": "3b18ad51",
   "metadata": {},
   "outputs": [],
   "source": [
    "import joblib\n",
    "import os\n",
    "import numpy as np\n",
    "from scipy import sparse\n",
    "from sklearn.feature_selection import VarianceThreshold\n",
    "from sklearn.feature_selection import mutual_info_classif\n",
    "\n",
    "import matplotlib.pyplot as plt\n",
    "\n",
    "os.path.dirname(os.getcwd())\n",
    "\n",
    "model_path = os.path.dirname(os.getcwd()) + '\\\\model\\\\'\n",
    "lexicon_path = os.path.dirname(os.getcwd()) + '\\\\lexicon\\\\'"
   ]
  },
  {
   "cell_type": "code",
   "execution_count": 14,
   "id": "280c10ef",
   "metadata": {},
   "outputs": [],
   "source": [
    "# preparing all data \n",
    "\n",
    "text_bow1_kt = joblib.load(model_path+'text_bow1_kt.pkl')\n",
    "text_bow1_ws = joblib.load(model_path+'text_bow1_ws.pkl')\n",
    "\n",
    "text_bow2_kt = joblib.load(model_path+'text_bow2_kt.pkl')\n",
    "text_bow2_ws = joblib.load(model_path+'text_bow2_ws.pkl')\n",
    "\n",
    "text_tfidf1_kt = joblib.load(model_path+'text_tfidf1_kt.pkl')\n",
    "text_tfidf1_ws = joblib.load(model_path+'text_tfidf1_ws.pkl')\n",
    "\n",
    "text_tfidf2_kt = joblib.load(model_path+'text_tfidf2_kt.pkl')\n",
    "text_tfidf2_ws = joblib.load(model_path+'text_tfidf2_ws.pkl')\n",
    "\n",
    "all_texts = [[\"text_bow1_kt\", text_bow1_kt],\n",
    "               [\"text_bow1_ws\", text_bow1_ws],\n",
    "            #  [\"text_bow2_kt\", text_bow2_kt],\n",
    "            #  [\"text_bow2_ws\", text_bow2_ws],\n",
    "            #  [\"text_tfidf1_kt\", text_tfidf1_kt],\n",
    "            #  [\"text_tfidf1_ws\", text_tfidf1_ws],\n",
    "            #  [\"text_tfidf2_kt\", text_tfidf2_kt],\n",
    "            #  [\"text_tfidf2_ws\", text_tfidf2_ws]\n",
    "            ]\n",
    "# lex_bow1_kt = joblib.load(lexicon_path+'lex_bow1_kt.pkl')\n",
    "# lex_bow1_ws = joblib.load(lexicon_path+'lex_bow1_ws.pkl')\n",
    "\n",
    "# lex_bow2_kt = joblib.load(lexicon_path+'lex_bow2_kt.pkl')\n",
    "# lex_bow2_ws = joblib.load(lexicon_path+'lex_bow2_ws.pkl')"
   ]
  },
  {
   "cell_type": "code",
   "execution_count": 15,
   "id": "c2bf8a6c",
   "metadata": {},
   "outputs": [],
   "source": [
    "def plot_feature_scores(threshold_val):\n",
    "    fig = plt.figure(figsize=(9, 7), dpi=80) \n",
    "    ax = plt.axes()\n",
    "    ax.axhline(threshold_val, ls='dotted', c='r')\n",
    "    ax.plot(vt.variances_)\n",
    "    return"
   ]
  },
  {
   "cell_type": "markdown",
   "id": "d15ddd3f",
   "metadata": {},
   "source": [
    "## Select using fix dim"
   ]
  },
  {
   "cell_type": "code",
   "execution_count": 16,
   "id": "c06ef688",
   "metadata": {},
   "outputs": [],
   "source": [
    "\n",
    "'''\n",
    "parem:  X = features, y= target\n",
    "        vt_dim = dimension for first filter,\n",
    "        mi_dim = diminsion last filter\n",
    "return: array \n",
    "'''\n",
    "def twosteps_fs(X, y, vt_dim, mi_dim):\n",
    "        vt = VarianceThreshold()\n",
    "        vt.fit(X)\n",
    "        feature_scores = vt.variances_\n",
    "\n",
    "        idx = np.flip(np.argsort(feature_scores))\n",
    "        tmp = np.take(X, idx.flatten(), axis=1)        \n",
    "        X_vt = tmp[:, :vt_dim]\n",
    "\n",
    "        feature_scores = mutual_info_classif(X_vt, np.ravel(y), random_state=0)\n",
    "        mi_idx = np.flip(np.argsort(feature_scores))\n",
    "        tmp = np.take(X_vt, mi_idx.flatten(), axis=1)        \n",
    "        X_vt_mi = tmp[:, :mi_dim]\n",
    "        return X_vt_mi"
   ]
  },
  {
   "cell_type": "code",
   "execution_count": 17,
   "id": "8ba0907f",
   "metadata": {},
   "outputs": [],
   "source": [
    "%%time\n",
    "vt_dim = 1500\n",
    "mi_dim = 700\n",
    "for i in range(len(all_texts)):\n",
    "    X, y = all_texts[i][1]\n",
    "    X = X.A\n",
    "    y = y.A\n",
    "    X_vt_mi = twosteps_fs(X, y, vt_dim, mi_dim)\n",
    "\n",
    "    arr = np.hstack((sparse.csr_matrix(X_vt_mi), sparse.csr_matrix(y)))\n",
    "    joblib.dump(arr, model_path + all_texts[i][0] + \"_fs.pkl\")"
   ]
  },
  {
   "cell_type": "markdown",
   "id": "8132b564",
   "metadata": {},
   "source": [
    "## Manually select using specfic thresholds"
   ]
  },
  {
   "cell_type": "code",
   "execution_count": 24,
   "id": "deba527e",
   "metadata": {},
   "outputs": [
    {
     "name": "stdout",
     "output_type": "stream",
     "text": [
      "(60081, 6459)\n",
      "(60081, 1)\n"
     ]
    }
   ],
   "source": [
    "# select using manual threshold\n",
    "X, y = text_bow1_kt\n",
    "X = X.A\n",
    "y = y.A\n",
    "\n",
    "print(X.shape)\n",
    "print(y.shape)"
   ]
  },
  {
   "cell_type": "markdown",
   "id": "3b7335f6",
   "metadata": {},
   "source": [
    "## Filter 1 - remove features with low variance"
   ]
  },
  {
   "cell_type": "code",
   "execution_count": 25,
   "id": "24e25fc7",
   "metadata": {},
   "outputs": [],
   "source": [
    "# bow1_kt 0.00035\n",
    "# bow1_ws 0.003\n",
    "# bow2_kt 0.00065\n",
    "# bow2_ws\n",
    "# tfidf1_kt\n",
    "# tfidf1_ws\n",
    "# tfidf2_kt\n",
    "# tfidf2_ws\n",
    "threshold_val = 0.00035\n",
    "vt = VarianceThreshold(threshold=threshold_val)\n",
    "vt.fit(X)\n",
    "mask = vt.get_support()"
   ]
  },
  {
   "cell_type": "code",
   "execution_count": 26,
   "id": "631c4f77",
   "metadata": {},
   "outputs": [
    {
     "name": "stdout",
     "output_type": "stream",
     "text": [
      "total number of feature will be removed: 3755\n"
     ]
    },
    {
     "data": {
      "text/plain": [
       "(60081, 2704)"
      ]
     },
     "execution_count": 26,
     "metadata": {},
     "output_type": "execute_result"
    }
   ],
   "source": [
    "idx = np.where(mask==False)\n",
    "print(\"total number of feature will be removed:\", len(idx[0]))\n",
    "X_vt =  np.delete(X, idx, 1)\n",
    "X_vt.shape"
   ]
  },
  {
   "cell_type": "markdown",
   "id": "d4b043c0",
   "metadata": {},
   "source": [
    "## Filter 2 remove using MI score"
   ]
  },
  {
   "cell_type": "code",
   "execution_count": 27,
   "id": "ff5d479d",
   "metadata": {},
   "outputs": [],
   "source": [
    "#calcuate mi score of the remaining terms\n",
    "feature_scores = mutual_info_classif(X_vt, np.ravel(y), random_state=0)"
   ]
  },
  {
   "cell_type": "code",
   "execution_count": 28,
   "id": "72043604",
   "metadata": {},
   "outputs": [
    {
     "data": {
      "image/png": "[encoded data removed]",
      "text/plain": [
       "<Figure size 720x560 with 1 Axes>"
      ]
     },
     "metadata": {
      "needs_background": "light"
     },
     "output_type": "display_data"
    }
   ],
   "source": [
    "# bow1_kt = 0.0001\n",
    "# bow1_ws = 0.0005\n",
    "mi_threshold_val = 0.0001\n",
    "plot_feature_scores(mi_threshold_val)"
   ]
  },
  {
   "cell_type": "code",
   "execution_count": 29,
   "id": "425dadf6",
   "metadata": {},
   "outputs": [
    {
     "data": {
      "text/plain": [
       "[<matplotlib.lines.Line2D at 0x220ea2d11c0>]"
      ]
     },
     "execution_count": 29,
     "metadata": {},
     "output_type": "execute_result"
    },
    {
     "data": {
      "image/png": "[encoded data removed]",
      "text/plain": [
       "<Figure size 432x288 with 1 Axes>"
      ]
     },
     "metadata": {
      "needs_background": "light"
     },
     "output_type": "display_data"
    }
   ],
   "source": [
    "# set another mi score threshold manually, so that we can have reasonable size\n",
    "plt.plot(-np.sort(-feature_scores))"
   ]
  },
  {
   "cell_type": "code",
   "execution_count": 30,
   "id": "092c18b3",
   "metadata": {},
   "outputs": [
    {
     "data": {
      "text/plain": [
       "[<matplotlib.lines.Line2D at 0x220ea9e67c0>]"
      ]
     },
     "execution_count": 30,
     "metadata": {},
     "output_type": "execute_result"
    },
    {
     "data": {
      "image/png": "[encoded data removed]",
      "text/plain": [
       "<Figure size 432x288 with 1 Axes>"
      ]
     },
     "metadata": {
      "needs_background": "light"
     },
     "output_type": "display_data"
    }
   ],
   "source": [
    "feature_scores_final = feature_scores[feature_scores > mi_threshold_val]\n",
    "plt.plot(-np.sort(-feature_scores_final))"
   ]
  },
  {
   "cell_type": "code",
   "execution_count": 31,
   "id": "c2cffd51",
   "metadata": {},
   "outputs": [
    {
     "data": {
      "text/plain": [
       "(60081, 1393)"
      ]
     },
     "execution_count": 31,
     "metadata": {},
     "output_type": "execute_result"
    }
   ],
   "source": [
    "# select with threshold\n",
    "mi_idx = np.argwhere(feature_scores > mi_threshold_val)\n",
    "X_vt_mi = np.take(X_vt, mi_idx.flatten(), axis=1)\n",
    "X_vt_mi.shape"
   ]
  },
  {
   "cell_type": "code",
   "execution_count": 32,
   "id": "dfec5586",
   "metadata": {},
   "outputs": [
    {
     "data": {
      "text/plain": [
       "['c:\\\\Users\\\\Pree\\\\Thai_SA_journal\\\\model\\\\text_bow1_ws_kt.pkl']"
      ]
     },
     "execution_count": 32,
     "metadata": {},
     "output_type": "execute_result"
    }
   ],
   "source": [
    "arr_new = np.hstack((sparse.csr_matrix(X_vt_mi), sparse.csr_matrix(y)))\n",
    "joblib.dump(arr_new, model_path+'text_bow1_ws_kt.pkl')"
   ]
  },
  {
   "cell_type": "markdown",
   "id": "1df00a88",
   "metadata": {},
   "source": [
    "## Test with LR"
   ]
  },
  {
   "cell_type": "code",
   "execution_count": 19,
   "id": "af377b3a",
   "metadata": {},
   "outputs": [],
   "source": [
    "item = joblib.load(model_path+'text_bow1_kt_fs.pkl')\n",
    "\n",
    "arr_kt = np.concatenate((item[0].A, item[1].A), axis=1)"
   ]
  },
  {
   "cell_type": "code",
   "execution_count": 20,
   "id": "73fe13de",
   "metadata": {},
   "outputs": [],
   "source": [
    "from sklearn.model_selection import train_test_split, cross_val_score\n",
    "from sklearn.linear_model import LogisticRegression"
   ]
  },
  {
   "cell_type": "code",
   "execution_count": 21,
   "id": "bfdc8ab1",
   "metadata": {},
   "outputs": [
    {
     "data": {
      "text/plain": [
       "((48064, 701), (12017, 701))"
      ]
     },
     "execution_count": 21,
     "metadata": {},
     "output_type": "execute_result"
    }
   ],
   "source": [
    "train_df, test_df = train_test_split(arr_kt, test_size=0.20, random_state=42)\n",
    "train_df.shape, test_df.shape"
   ]
  },
  {
   "cell_type": "code",
   "execution_count": 22,
   "id": "08392cc9",
   "metadata": {},
   "outputs": [
    {
     "data": {
      "text/plain": [
       "((40854, 700), (7210, 700), (40854,), (7210,))"
      ]
     },
     "execution_count": 22,
     "metadata": {},
     "output_type": "execute_result"
    }
   ],
   "source": [
    "X_train, X_valid, y_train, y_valid = train_test_split(train_df[:,:-1], train_df[:,-1], test_size=0.15, random_state=42)\n",
    "X_train.shape, X_valid.shape, y_train.shape, y_valid.shape"
   ]
  },
  {
   "cell_type": "code",
   "execution_count": 23,
   "id": "724bb241",
   "metadata": {},
   "outputs": [
    {
     "data": {
      "text/plain": [
       "0.7123"
      ]
     },
     "execution_count": 23,
     "metadata": {},
     "output_type": "execute_result"
    }
   ],
   "source": [
    "model = LogisticRegression(C=2., penalty=\"l2\", solver=\"liblinear\", dual=False, multi_class=\"ovr\")\n",
    "model.fit(X_train, y_train)\n",
    "round(model.score(X_valid, y_valid), 4)"
   ]
  },
  {
   "cell_type": "code",
   "execution_count": null,
   "id": "cff3cf89",
   "metadata": {},
   "outputs": [],
   "source": []
  }
 ],
 "metadata": {
  "kernelspec": {
   "display_name": "Python 3 (ipykernel)",
   "language": "python",
   "name": "python3"
  },
  "language_info": {
   "codemirror_mode": {
    "name": "ipython",
    "version": 3
   },
   "file_extension": ".py",
   "mimetype": "text/x-python",
   "name": "python",
   "nbconvert_exporter": "python",
   "pygments_lexer": "ipython3",
   "version": "3.8.8"
  }
 },
 "nbformat": 4,
 "nbformat_minor": 5
}
