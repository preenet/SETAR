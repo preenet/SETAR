{
 "cells": [
  {
   "cell_type": "markdown",
   "id": "3bf2df5f",
   "metadata": {},
   "source": [
    "## Feature selection using two-stage filtering method  \n",
    "We applied a two-stage filtering feature selection method for both bow and tfi-df text representation only.    \n",
    "filter 1 - remove feature with low variance\n",
    "filter 2 - remove redundant features using MI score   \n",
    "text_bow1_kt:  \n",
    "\n",
    "| Using all features bow1:    | LR = 0.7389736477115117 | (6459 features) |\n",
    "|-----------------------------|-------------------------|-----------------|\n",
    "| With our two-stage FS bow1: | LR = 0.7147018030513176 | (1394 features) |\n",
    "\n",
    "text_bow1_ws:  \n",
    "\n",
    "| Using all features bow1:    | LR = 0.6877531941414771 | (6459 features) |\n",
    "|-----------------------------|-------------------------|-----------------|\n",
    "| With our two-stage FS bow1: | LR = 0.6678092863820505 | (588 features) |\n",
    "\n",
    "\n",
    "pree.t@cmu.ac.th  "
   ]
  },
  {
   "cell_type": "code",
   "execution_count": 3,
   "id": "3b18ad51",
   "metadata": {},
   "outputs": [],
   "source": [
    "import joblib\n",
    "import os\n",
    "import numpy as np\n",
    "from scipy import sparse\n",
    "from sklearn.feature_selection import VarianceThreshold\n",
    "from sklearn.feature_selection import mutual_info_classif\n",
    "\n",
    "import matplotlib.pyplot as plt\n",
    "\n",
    "os.path.dirname(os.getcwd())\n",
    "\n",
    "model_path = os.path.dirname(os.getcwd()) + '\\\\model\\\\'\n",
    "lexicon_path = os.path.dirname(os.getcwd()) + '\\\\lexicon\\\\'"
   ]
  },
  {
   "cell_type": "code",
   "execution_count": 4,
   "id": "280c10ef",
   "metadata": {},
   "outputs": [],
   "source": [
    "# preparing all data \n",
    "\n",
    "text_bow1_kt = joblib.load(model_path+'text_bow1_kt.pkl')\n",
    "text_bow1_ws = joblib.load(model_path+'text_bow1_ws.pkl')\n",
    "\n",
    "text_bow2_kt = joblib.load(model_path+'text_bow2_kt.pkl')\n",
    "text_bow2_ws = joblib.load(model_path+'text_bow2_ws.pkl')\n",
    "\n",
    "text_tfidf1_kt = joblib.load(model_path+'text_tfidf1_kt.pkl')\n",
    "text_tfidf1_ws = joblib.load(model_path+'text_tfidf1_ws.pkl')\n",
    "\n",
    "text_tfidf2_kt = joblib.load(model_path+'text_tfidf2_kt.pkl')\n",
    "text_tfidf2_ws = joblib.load(model_path+'text_tfidf2_ws.pkl')\n",
    "\n",
    "all_texts = [[\"text_bow1_kt\", text_bow1_kt],\n",
    "             [\"text_bow1_ws\", text_bow1_ws],\n",
    "             [\"text_bow2_kt\", text_bow2_kt],\n",
    "             [\"text_bow2_ws\", text_bow2_ws],\n",
    "             [\"text_tfidf1_kt\", text_tfidf1_kt],\n",
    "             [\"text_tfidf1_ws\", text_tfidf1_ws],\n",
    "             [\"text_tfidf2_kt\", text_tfidf2_kt],\n",
    "             [\"text_tfidf2_ws\", text_tfidf2_ws]\n",
    "            ]\n",
    "# lex_bow1_kt = joblib.load(lexicon_path+'lex_bow1_kt.pkl')\n",
    "# lex_bow1_ws = joblib.load(lexicon_path+'lex_bow1_ws.pkl')\n",
    "\n",
    "# lex_bow2_kt = joblib.load(lexicon_path+'lex_bow2_kt.pkl')\n",
    "# lex_bow2_ws = joblib.load(lexicon_path+'lex_bow2_ws.pkl')"
   ]
  },
  {
   "cell_type": "code",
   "execution_count": 5,
   "id": "c2bf8a6c",
   "metadata": {},
   "outputs": [],
   "source": [
    "def plot_feature_scores(threshold_val):\n",
    "    fig = plt.figure(figsize=(9, 7), dpi=80) \n",
    "    ax = plt.axes()\n",
    "    ax.axhline(threshold_val, ls='dotted', c='r')\n",
    "    ax.plot(vt.variances_)\n",
    "    return"
   ]
  },
  {
   "cell_type": "markdown",
   "id": "d15ddd3f",
   "metadata": {},
   "source": [
    "## Select using fix dim"
   ]
  },
  {
   "cell_type": "code",
   "execution_count": null,
   "id": "c06ef688",
   "metadata": {},
   "outputs": [],
   "source": [
    "\n",
    "'''\n",
    "parem: texts=list of text representation, \n",
    "        vt_dim= dimension for first filter,\n",
    "        mi_dim = diminsion last filter\n",
    "return: array \n",
    "'''\n",
    "def twosteps_fs(texts, vt_dim, mi_dim):\n",
    "   for text in texts:\n",
    "        X, y = text\n",
    "        X = X.A\n",
    "        y = y.A\n",
    "        vt = VarianceThreshold()\n",
    "        vt.fit(X)\n",
    "        feature_scores = vt.variances_\n",
    "\n",
    "        idx = np.flip(np.argsort(feature_scores))\n",
    "        tmp = np.take(X, idx.flatten(), axis=1)        \n",
    "        X_vt = tmp[:, :vt_dim]\n",
    "\n",
    "        feature_scores = mutual_info_classif(X_vt, np.ravel(y), random_state=0)\n",
    "        mi_idx = np.flip(np.argsort(feature_scores))\n",
    "        tmp = np.take(X_vt, mi_idx.flatten(), axis=1)        \n",
    "        X_vt_mi = tmp[:, :mi_dim]\n",
    "        text.append(X_vt_mi)\n",
    "\n",
    "        return texts"
   ]
  },
  {
   "cell_type": "code",
   "execution_count": null,
   "id": "8ba0907f",
   "metadata": {},
   "outputs": [],
   "source": [
    "texts = [item[1] for item in all_texts]\n",
    "all_texts = twosteps_fs(texts, 1500, 700)\n",
    "\n",
    "# dump to disk\n",
    "for texts in all_texts:\n",
    "    joblib.dump(texts[2], texts[0]+\"_fs.pkl\")"
   ]
  },
  {
   "cell_type": "markdown",
   "id": "8132b564",
   "metadata": {},
   "source": [
    "## Manaully select using specfic thresholds"
   ]
  },
  {
   "cell_type": "code",
   "execution_count": 6,
   "id": "deba527e",
   "metadata": {},
   "outputs": [
    {
     "name": "stdout",
     "output_type": "stream",
     "text": [
      "(60081, 6459)\n",
      "(60081, 1)\n"
     ]
    }
   ],
   "source": [
    "# select using manual threshold\n",
    "X, y = text_bow1_kt\n",
    "X = X.A\n",
    "y = y.A\n",
    "\n",
    "print(X.shape)\n",
    "print(y.shape)"
   ]
  },
  {
   "cell_type": "markdown",
   "id": "3b7335f6",
   "metadata": {},
   "source": [
    "## Filter 1 - remove features with low variance"
   ]
  },
  {
   "cell_type": "code",
   "execution_count": 7,
   "id": "24e25fc7",
   "metadata": {},
   "outputs": [],
   "source": [
    "# bow1_kt 0.00035\n",
    "# bow1_ws 0.003\n",
    "# bow2_kt 0.00065\n",
    "# bow2_ws\n",
    "# tfidf1_kt\n",
    "# tfidf1_ws\n",
    "# tfidf2_kt\n",
    "# tfidf2_ws\n",
    "threshold_val = 0.00035\n",
    "vt = VarianceThreshold(threshold=threshold_val)\n",
    "vt.fit(X)\n",
    "mask = vt.get_support()"
   ]
  },
  {
   "cell_type": "code",
   "execution_count": 8,
   "id": "631c4f77",
   "metadata": {},
   "outputs": [
    {
     "name": "stdout",
     "output_type": "stream",
     "text": [
      "total number of feature will be removed: 3755\n"
     ]
    },
    {
     "data": {
      "text/plain": [
       "(60081, 2704)"
      ]
     },
     "execution_count": 8,
     "metadata": {},
     "output_type": "execute_result"
    }
   ],
   "source": [
    "idx = np.where(mask==False)\n",
    "print(\"total number of feature will be removed:\", len(idx[0]))\n",
    "X_vt =  np.delete(X, idx, 1)\n",
    "X_vt.shape"
   ]
  },
  {
   "cell_type": "markdown",
   "id": "d4b043c0",
   "metadata": {},
   "source": [
    "## Filter 2 remove using MI score"
   ]
  },
  {
   "cell_type": "code",
   "execution_count": 9,
   "id": "ff5d479d",
   "metadata": {},
   "outputs": [
    {
     "ename": "KeyboardInterrupt",
     "evalue": "",
     "output_type": "error",
     "traceback": [
      "\u001b[1;31m---------------------------------------------------------------------------\u001b[0m",
      "\u001b[1;31mKeyboardInterrupt\u001b[0m                         Traceback (most recent call last)",
      "\u001b[1;32mc:\\Users\\Pree\\Thai_SA_journal\\notebooks\\feature_selection.ipynb Cell 14'\u001b[0m in \u001b[0;36m<cell line: 2>\u001b[1;34m()\u001b[0m\n\u001b[0;32m      <a href='vscode-notebook-cell:/c%3A/Users/Pree/Thai_SA_journal/notebooks/feature_selection.ipynb#ch0000010?line=0'>1</a>\u001b[0m \u001b[39m#calcuate mi score of the remaining terms\u001b[39;00m\n\u001b[1;32m----> <a href='vscode-notebook-cell:/c%3A/Users/Pree/Thai_SA_journal/notebooks/feature_selection.ipynb#ch0000010?line=1'>2</a>\u001b[0m feature_scores \u001b[39m=\u001b[39m mutual_info_classif(X_vt, np\u001b[39m.\u001b[39;49mravel(y), random_state\u001b[39m=\u001b[39;49m\u001b[39m0\u001b[39;49m)\n",
      "File \u001b[1;32m~\\anaconda3\\lib\\site-packages\\sklearn\\feature_selection\\_mutual_info.py:464\u001b[0m, in \u001b[0;36mmutual_info_classif\u001b[1;34m(X, y, discrete_features, n_neighbors, copy, random_state)\u001b[0m\n\u001b[0;32m    <a href='file:///c%3A/Users/Pree/anaconda3/lib/site-packages/sklearn/feature_selection/_mutual_info.py?line=389'>390</a>\u001b[0m \u001b[39m\"\"\"Estimate mutual information for a discrete target variable.\u001b[39;00m\n\u001b[0;32m    <a href='file:///c%3A/Users/Pree/anaconda3/lib/site-packages/sklearn/feature_selection/_mutual_info.py?line=390'>391</a>\u001b[0m \n\u001b[0;32m    <a href='file:///c%3A/Users/Pree/anaconda3/lib/site-packages/sklearn/feature_selection/_mutual_info.py?line=391'>392</a>\u001b[0m \u001b[39mMutual information (MI) [1]_ between two random variables is a non-negative\u001b[39;00m\n\u001b[1;32m   (...)\u001b[0m\n\u001b[0;32m    <a href='file:///c%3A/Users/Pree/anaconda3/lib/site-packages/sklearn/feature_selection/_mutual_info.py?line=460'>461</a>\u001b[0m \u001b[39m       of a Random Vector:, Probl. Peredachi Inf., 23:2 (1987), 9-16\u001b[39;00m\n\u001b[0;32m    <a href='file:///c%3A/Users/Pree/anaconda3/lib/site-packages/sklearn/feature_selection/_mutual_info.py?line=461'>462</a>\u001b[0m \u001b[39m\"\"\"\u001b[39;00m\n\u001b[0;32m    <a href='file:///c%3A/Users/Pree/anaconda3/lib/site-packages/sklearn/feature_selection/_mutual_info.py?line=462'>463</a>\u001b[0m check_classification_targets(y)\n\u001b[1;32m--> <a href='file:///c%3A/Users/Pree/anaconda3/lib/site-packages/sklearn/feature_selection/_mutual_info.py?line=463'>464</a>\u001b[0m \u001b[39mreturn\u001b[39;00m _estimate_mi(X, y, discrete_features, \u001b[39mTrue\u001b[39;49;00m, n_neighbors, copy, random_state)\n",
      "File \u001b[1;32m~\\anaconda3\\lib\\site-packages\\sklearn\\feature_selection\\_mutual_info.py:300\u001b[0m, in \u001b[0;36m_estimate_mi\u001b[1;34m(X, y, discrete_features, discrete_target, n_neighbors, copy, random_state)\u001b[0m\n\u001b[0;32m    <a href='file:///c%3A/Users/Pree/anaconda3/lib/site-packages/sklearn/feature_selection/_mutual_info.py?line=296'>297</a>\u001b[0m     y \u001b[39m=\u001b[39m scale(y, with_mean\u001b[39m=\u001b[39m\u001b[39mFalse\u001b[39;00m)\n\u001b[0;32m    <a href='file:///c%3A/Users/Pree/anaconda3/lib/site-packages/sklearn/feature_selection/_mutual_info.py?line=297'>298</a>\u001b[0m     y \u001b[39m+\u001b[39m\u001b[39m=\u001b[39m \u001b[39m1e-10\u001b[39m \u001b[39m*\u001b[39m np\u001b[39m.\u001b[39mmaximum(\u001b[39m1\u001b[39m, np\u001b[39m.\u001b[39mmean(np\u001b[39m.\u001b[39mabs(y))) \u001b[39m*\u001b[39m rng\u001b[39m.\u001b[39mrandn(n_samples)\n\u001b[1;32m--> <a href='file:///c%3A/Users/Pree/anaconda3/lib/site-packages/sklearn/feature_selection/_mutual_info.py?line=299'>300</a>\u001b[0m mi \u001b[39m=\u001b[39m [\n\u001b[0;32m    <a href='file:///c%3A/Users/Pree/anaconda3/lib/site-packages/sklearn/feature_selection/_mutual_info.py?line=300'>301</a>\u001b[0m     _compute_mi(x, y, discrete_feature, discrete_target, n_neighbors)\n\u001b[0;32m    <a href='file:///c%3A/Users/Pree/anaconda3/lib/site-packages/sklearn/feature_selection/_mutual_info.py?line=301'>302</a>\u001b[0m     \u001b[39mfor\u001b[39;00m x, discrete_feature \u001b[39min\u001b[39;00m \u001b[39mzip\u001b[39m(_iterate_columns(X), discrete_mask)\n\u001b[0;32m    <a href='file:///c%3A/Users/Pree/anaconda3/lib/site-packages/sklearn/feature_selection/_mutual_info.py?line=302'>303</a>\u001b[0m ]\n\u001b[0;32m    <a href='file:///c%3A/Users/Pree/anaconda3/lib/site-packages/sklearn/feature_selection/_mutual_info.py?line=304'>305</a>\u001b[0m \u001b[39mreturn\u001b[39;00m np\u001b[39m.\u001b[39marray(mi)\n",
      "File \u001b[1;32m~\\anaconda3\\lib\\site-packages\\sklearn\\feature_selection\\_mutual_info.py:301\u001b[0m, in \u001b[0;36m<listcomp>\u001b[1;34m(.0)\u001b[0m\n\u001b[0;32m    <a href='file:///c%3A/Users/Pree/anaconda3/lib/site-packages/sklearn/feature_selection/_mutual_info.py?line=296'>297</a>\u001b[0m     y \u001b[39m=\u001b[39m scale(y, with_mean\u001b[39m=\u001b[39m\u001b[39mFalse\u001b[39;00m)\n\u001b[0;32m    <a href='file:///c%3A/Users/Pree/anaconda3/lib/site-packages/sklearn/feature_selection/_mutual_info.py?line=297'>298</a>\u001b[0m     y \u001b[39m+\u001b[39m\u001b[39m=\u001b[39m \u001b[39m1e-10\u001b[39m \u001b[39m*\u001b[39m np\u001b[39m.\u001b[39mmaximum(\u001b[39m1\u001b[39m, np\u001b[39m.\u001b[39mmean(np\u001b[39m.\u001b[39mabs(y))) \u001b[39m*\u001b[39m rng\u001b[39m.\u001b[39mrandn(n_samples)\n\u001b[0;32m    <a href='file:///c%3A/Users/Pree/anaconda3/lib/site-packages/sklearn/feature_selection/_mutual_info.py?line=299'>300</a>\u001b[0m mi \u001b[39m=\u001b[39m [\n\u001b[1;32m--> <a href='file:///c%3A/Users/Pree/anaconda3/lib/site-packages/sklearn/feature_selection/_mutual_info.py?line=300'>301</a>\u001b[0m     _compute_mi(x, y, discrete_feature, discrete_target, n_neighbors)\n\u001b[0;32m    <a href='file:///c%3A/Users/Pree/anaconda3/lib/site-packages/sklearn/feature_selection/_mutual_info.py?line=301'>302</a>\u001b[0m     \u001b[39mfor\u001b[39;00m x, discrete_feature \u001b[39min\u001b[39;00m \u001b[39mzip\u001b[39m(_iterate_columns(X), discrete_mask)\n\u001b[0;32m    <a href='file:///c%3A/Users/Pree/anaconda3/lib/site-packages/sklearn/feature_selection/_mutual_info.py?line=302'>303</a>\u001b[0m ]\n\u001b[0;32m    <a href='file:///c%3A/Users/Pree/anaconda3/lib/site-packages/sklearn/feature_selection/_mutual_info.py?line=304'>305</a>\u001b[0m \u001b[39mreturn\u001b[39;00m np\u001b[39m.\u001b[39marray(mi)\n",
      "File \u001b[1;32m~\\anaconda3\\lib\\site-packages\\sklearn\\feature_selection\\_mutual_info.py:164\u001b[0m, in \u001b[0;36m_compute_mi\u001b[1;34m(x, y, x_discrete, y_discrete, n_neighbors)\u001b[0m\n\u001b[0;32m    <a href='file:///c%3A/Users/Pree/anaconda3/lib/site-packages/sklearn/feature_selection/_mutual_info.py?line=161'>162</a>\u001b[0m     \u001b[39mreturn\u001b[39;00m _compute_mi_cd(y, x, n_neighbors)\n\u001b[0;32m    <a href='file:///c%3A/Users/Pree/anaconda3/lib/site-packages/sklearn/feature_selection/_mutual_info.py?line=162'>163</a>\u001b[0m \u001b[39melif\u001b[39;00m \u001b[39mnot\u001b[39;00m x_discrete \u001b[39mand\u001b[39;00m y_discrete:\n\u001b[1;32m--> <a href='file:///c%3A/Users/Pree/anaconda3/lib/site-packages/sklearn/feature_selection/_mutual_info.py?line=163'>164</a>\u001b[0m     \u001b[39mreturn\u001b[39;00m _compute_mi_cd(x, y, n_neighbors)\n\u001b[0;32m    <a href='file:///c%3A/Users/Pree/anaconda3/lib/site-packages/sklearn/feature_selection/_mutual_info.py?line=164'>165</a>\u001b[0m \u001b[39melse\u001b[39;00m:\n\u001b[0;32m    <a href='file:///c%3A/Users/Pree/anaconda3/lib/site-packages/sklearn/feature_selection/_mutual_info.py?line=165'>166</a>\u001b[0m     \u001b[39mreturn\u001b[39;00m _compute_mi_cc(x, y, n_neighbors)\n",
      "File \u001b[1;32m~\\anaconda3\\lib\\site-packages\\sklearn\\feature_selection\\_mutual_info.py:140\u001b[0m, in \u001b[0;36m_compute_mi_cd\u001b[1;34m(c, d, n_neighbors)\u001b[0m\n\u001b[0;32m    <a href='file:///c%3A/Users/Pree/anaconda3/lib/site-packages/sklearn/feature_selection/_mutual_info.py?line=136'>137</a>\u001b[0m radius \u001b[39m=\u001b[39m radius[mask]\n\u001b[0;32m    <a href='file:///c%3A/Users/Pree/anaconda3/lib/site-packages/sklearn/feature_selection/_mutual_info.py?line=138'>139</a>\u001b[0m kd \u001b[39m=\u001b[39m KDTree(c)\n\u001b[1;32m--> <a href='file:///c%3A/Users/Pree/anaconda3/lib/site-packages/sklearn/feature_selection/_mutual_info.py?line=139'>140</a>\u001b[0m m_all \u001b[39m=\u001b[39m kd\u001b[39m.\u001b[39;49mquery_radius(c, radius, count_only\u001b[39m=\u001b[39;49m\u001b[39mTrue\u001b[39;49;00m, return_distance\u001b[39m=\u001b[39;49m\u001b[39mFalse\u001b[39;49;00m)\n\u001b[0;32m    <a href='file:///c%3A/Users/Pree/anaconda3/lib/site-packages/sklearn/feature_selection/_mutual_info.py?line=140'>141</a>\u001b[0m m_all \u001b[39m=\u001b[39m np\u001b[39m.\u001b[39marray(m_all) \u001b[39m-\u001b[39m \u001b[39m1.0\u001b[39m\n\u001b[0;32m    <a href='file:///c%3A/Users/Pree/anaconda3/lib/site-packages/sklearn/feature_selection/_mutual_info.py?line=142'>143</a>\u001b[0m mi \u001b[39m=\u001b[39m (\n\u001b[0;32m    <a href='file:///c%3A/Users/Pree/anaconda3/lib/site-packages/sklearn/feature_selection/_mutual_info.py?line=143'>144</a>\u001b[0m     digamma(n_samples)\n\u001b[0;32m    <a href='file:///c%3A/Users/Pree/anaconda3/lib/site-packages/sklearn/feature_selection/_mutual_info.py?line=144'>145</a>\u001b[0m     \u001b[39m+\u001b[39m np\u001b[39m.\u001b[39mmean(digamma(k_all))\n\u001b[0;32m    <a href='file:///c%3A/Users/Pree/anaconda3/lib/site-packages/sklearn/feature_selection/_mutual_info.py?line=145'>146</a>\u001b[0m     \u001b[39m-\u001b[39m np\u001b[39m.\u001b[39mmean(digamma(label_counts))\n\u001b[0;32m    <a href='file:///c%3A/Users/Pree/anaconda3/lib/site-packages/sklearn/feature_selection/_mutual_info.py?line=146'>147</a>\u001b[0m     \u001b[39m-\u001b[39m np\u001b[39m.\u001b[39mmean(digamma(m_all \u001b[39m+\u001b[39m \u001b[39m1\u001b[39m))\n\u001b[0;32m    <a href='file:///c%3A/Users/Pree/anaconda3/lib/site-packages/sklearn/feature_selection/_mutual_info.py?line=147'>148</a>\u001b[0m )\n",
      "\u001b[1;31mKeyboardInterrupt\u001b[0m: "
     ]
    }
   ],
   "source": [
    "#calcuate mi score of the remaining terms\n",
    "feature_scores = mutual_info_classif(X_vt, np.ravel(y), random_state=0)"
   ]
  },
  {
   "cell_type": "code",
   "execution_count": null,
   "id": "72043604",
   "metadata": {},
   "outputs": [],
   "source": [
    "# bow1_kt = 0.0001\n",
    "# bow1_ws = 0.0005\n",
    "mi_threshold_val = 0.0001\n",
    "plot_feature_scores(mi_threshold_val)"
   ]
  },
  {
   "cell_type": "code",
   "execution_count": null,
   "id": "425dadf6",
   "metadata": {},
   "outputs": [],
   "source": [
    "# set another mi score threshold manually, so that we can have reasonable size\n",
    "plt.plot(-np.sort(-feature_scores))"
   ]
  },
  {
   "cell_type": "code",
   "execution_count": null,
   "id": "092c18b3",
   "metadata": {},
   "outputs": [],
   "source": [
    "feature_scores_final = feature_scores[feature_scores > mi_threshold_val]\n",
    "plt.plot(-np.sort(-feature_scores_final))"
   ]
  },
  {
   "cell_type": "code",
   "execution_count": null,
   "id": "c2cffd51",
   "metadata": {},
   "outputs": [],
   "source": [
    "# select with threshold\n",
    "mi_idx = np.argwhere(feature_scores > mi_threshold_val)\n",
    "X_vt_mi = np.take(X_vt, mi_idx.flatten(), axis=1)\n",
    "X_vt_mi.shape"
   ]
  },
  {
   "cell_type": "code",
   "execution_count": null,
   "id": "dfec5586",
   "metadata": {},
   "outputs": [],
   "source": [
    "arr_new = np.hstack((sparse.csr_matrix(X_vt_mi), sparse.csr_matrix(y)))\n",
    "joblib.dump(arr_new, model_path+'text_bow1_ws_kt.pkl')"
   ]
  },
  {
   "cell_type": "markdown",
   "id": "1df00a88",
   "metadata": {},
   "source": [
    "## Test with LR"
   ]
  },
  {
   "cell_type": "code",
   "execution_count": null,
   "id": "af377b3a",
   "metadata": {},
   "outputs": [],
   "source": [
    "#arr = np.concatenate((X, y), axis=1)\n",
    "arr_fs = np.concatenate((X_vt_mi, y), axis=1)\n"
   ]
  },
  {
   "cell_type": "code",
   "execution_count": null,
   "id": "73fe13de",
   "metadata": {},
   "outputs": [],
   "source": [
    "from sklearn.model_selection import train_test_split, cross_val_score\n",
    "from sklearn.linear_model import LogisticRegression"
   ]
  },
  {
   "cell_type": "code",
   "execution_count": null,
   "id": "bfdc8ab1",
   "metadata": {},
   "outputs": [],
   "source": [
    "train_df, test_df = train_test_split(arr_fs, test_size=0.20, random_state=42)\n",
    "train_df.shape, test_df.shape"
   ]
  },
  {
   "cell_type": "code",
   "execution_count": null,
   "id": "08392cc9",
   "metadata": {},
   "outputs": [],
   "source": [
    "X_train, X_valid, y_train, y_valid = train_test_split(train_df[:,:-1], train_df[:,-1], test_size=0.15, random_state=42)\n",
    "X_train.shape, X_valid.shape, y_train.shape, y_valid.shape"
   ]
  },
  {
   "cell_type": "code",
   "execution_count": null,
   "id": "724bb241",
   "metadata": {},
   "outputs": [],
   "source": [
    "model = LogisticRegression(C=2., penalty=\"l2\", solver=\"liblinear\", dual=False, multi_class=\"ovr\")\n",
    "model.fit(X_train, y_train)\n",
    "round(model.score(X_valid, y_valid), 4)"
   ]
  },
  {
   "cell_type": "code",
   "execution_count": null,
   "id": "cff3cf89",
   "metadata": {},
   "outputs": [],
   "source": []
  }
 ],
 "metadata": {
  "kernelspec": {
   "display_name": "Python 3 (ipykernel)",
   "language": "python",
   "name": "python3"
  },
  "language_info": {
   "codemirror_mode": {
    "name": "ipython",
    "version": 3
   },
   "file_extension": ".py",
   "mimetype": "text/x-python",
   "name": "python",
   "nbconvert_exporter": "python",
   "pygments_lexer": "ipython3",
   "version": "3.8.8"
  }
 },
 "nbformat": 4,
 "nbformat_minor": 5
}
