{
 "cells": [
  {
   "cell_type": "markdown",
   "metadata": {},
   "source": [
    "## Baseline Models\n",
    "This notebook presents 11 baseline ML models.\n",
    "# todo: \n",
    "train-test split  \n",
    "pree.t@cmu.ac.th  "
   ]
  },
  {
   "cell_type": "code",
   "execution_count": 3,
   "metadata": {},
   "outputs": [],
   "source": [
    "import os, sys\n",
    "import joblib\n",
    "os.path.dirname(os.getcwd())\n",
    "data_path = os.path.dirname(os.getcwd()) + '/data/final/original/'\n",
    "\n",
    "module_path = os.path.abspath(os.path.join('..'))\n",
    "if module_path not in sys.path:\n",
    "    sys.path.append(module_path+\"/src/models/\")"
   ]
  },
  {
   "cell_type": "code",
   "execution_count": 17,
   "metadata": {},
   "outputs": [],
   "source": [
    "feat1, yall = joblib.load(data_path+\"text_bow1_kt.pkl\")\n",
    "feat2 = joblib.load(data_path+\"text_bow2_kt.pkl\")[0]\n",
    "feat3 = joblib.load(data_path+\"text_tfidf1_kt.pkl\")[0]\n",
    "feat4 = joblib.load(data_path+\"text_tfidf2_kt.pkl\")[0]\n",
    "feat5 = joblib.load(data_path+\"text_dict_bow1_kt.pkl\")[0]\n",
    "feat6 = joblib.load(data_path+\"text_dict_bow2_kt.pkl\")[0]\n",
    "feat7 = joblib.load(data_path+\"text_dict_tfidf1_kt.pkl\")[0]\n",
    "feat8 = joblib.load(data_path+\"text_dict_tfidf2_kt.pkl\")[0]\n",
    "feat9 = joblib.load(data_path+\"text_w2v_tfidf_kt.pkl\")[0]\n",
    "feat10 = joblib.load(data_path+\"text_pos_bow1_kt.pkl\")[0]\n",
    "\n",
    "all_feats = [[\"text_bow1_kt\", feat1],\n",
    "               [\"text_bow2_kt\", feat2],\n",
    "               [\"text_tfidf1_kt\", feat3],\n",
    "               [\"text_tfidf2_kt\", feat4],\n",
    "               [\"text_w2v_tfidf_kt\", feat5],\n",
    "               [\"text_pos_bow1_kt\", feat6],\n",
    "               [\"text_dict_bow1_kt\", feat7],\n",
    "               [\"text_dict_bow2_kt\", feat8],\n",
    "               [\"text_dict_tfidf1_kt\", feat9],\n",
    "               [\"text_dict_tfidf2_kt\", feat10]\n",
    "            ]\n"
   ]
  },
  {
   "cell_type": "code",
   "execution_count": 18,
   "metadata": {},
   "outputs": [],
   "source": [
    "from sklearn.model_selection import train_test_split\n",
    "[f1,ft1, f2, ft2, f3, ft3, f4, ft4, f5, ft5, f6, ft6, f7, ft7, f8, ft8, f9, ft9, f10, ft10, y, yt] = train_test_split(feat1, feat2, feat3, feat4, feat5, feat6, feat7, feat8, feat9, feat10, yall, test_size=0.2, random_state=0)\n",
    "Xall = [eval('f%d' % (i)) for i in range(1,11)]\n",
    "Xtall = [eval('ft%d' % (i)) for i in range(1,11)]\n",
    "\n",
    "from sklearn.preprocessing import MaxAbsScaler\n",
    "allscaler = []\n",
    "Xalls = []\n",
    "Xtalls = []\n",
    "for i in range(len(Xall)):\n",
    "    scaler = MaxAbsScaler()\n",
    "    scaler.fit(Xall[i])\n",
    "    Xalls.append(scaler.transform(Xall[i]))\n",
    "    Xtalls.append(scaler.transform(Xtall[i]))\n",
    "    allscaler.append(scaler)\n",
    "    "
   ]
  },
  {
   "cell_type": "code",
   "execution_count": 19,
   "metadata": {},
   "outputs": [
    {
     "data": {
      "text/plain": [
       "<12017x6459 sparse matrix of type '<class 'numpy.float64'>'\n",
       "\twith 115495 stored elements in Compressed Sparse Row format>"
      ]
     },
     "execution_count": 19,
     "metadata": {},
     "output_type": "execute_result"
    }
   ],
   "source": [
    "from sklearn.datasets import dump_svmlight_file\n",
    "import numpy as np\n",
    "import c\n",
    "\n",
    "r = Xalls[0].shape[0]\n",
    "rt = Xtalls[0].shape[0]\n",
    "y = y.todense()\n",
    "y = np.array(y.reshape(r,))[0]\n",
    "yt = yt.todense()\n",
    "yt = np.array(yt.reshape(rt,))[0]\n",
    "\n",
    "dump_svmlight_file(Xtalls[0], y, 'testdata.scl', zero_based=False)\n",
    "dump_svmlight_file(Xtalls[0], yt, 'testdata.scl', zero_based=False)\n"
   ]
  },
  {
   "cell_type": "code",
   "execution_count": null,
   "metadata": {},
   "outputs": [],
   "source": []
  }
 ],
 "metadata": {
  "interpreter": {
   "hash": "dcf7f798f4271baa32d304dbfca75a7796511e2dba41999f062f39345053eff7"
  },
  "kernelspec": {
   "display_name": "Python 3.8.8 ('base')",
   "language": "python",
   "name": "python3"
  },
  "language_info": {
   "codemirror_mode": {
    "name": "ipython",
    "version": 3
   },
   "file_extension": ".py",
   "mimetype": "text/x-python",
   "name": "python",
   "nbconvert_exporter": "python",
   "pygments_lexer": "ipython3",
   "version": "3.9.7"
  },
  "orig_nbformat": 4
 },
 "nbformat": 4,
 "nbformat_minor": 2
}
