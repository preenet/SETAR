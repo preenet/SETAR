{
 "cells": [
  {
   "cell_type": "markdown",
   "metadata": {},
   "source": [
    "## Train-test split svmlight\n",
    "This notebook presents 11 baseline ML models.  \n",
    "pree.t@cmu.ac.th  "
   ]
  },
  {
   "cell_type": "code",
   "execution_count": 1,
   "metadata": {},
   "outputs": [],
   "source": [
    "import os, sys\n",
    "import joblib\n",
    "import numpy as np\n",
    "\n",
    "\n",
    "os.path.dirname(os.getcwd())\n",
    "data_path = os.path.dirname(os.getcwd()) + '/data/final/original/'\n"
   ]
  },
  {
   "cell_type": "code",
   "execution_count": 2,
   "metadata": {},
   "outputs": [],
   "source": [
    "feat1, yall = joblib.load(data_path+\"text_bow1_kt.pkl\")\n",
    "feat2 = joblib.load(data_path+\"text_bow2_kt.pkl\")[0]\n",
    "feat3 = joblib.load(data_path+\"text_tfidf1_kt.pkl\")[0]\n",
    "feat4 = joblib.load(data_path+\"text_tfidf2_kt.pkl\")[0]\n",
    "feat5 = joblib.load(data_path+\"text_dict_bow1_kt.pkl\")[0]\n",
    "feat6 = joblib.load(data_path+\"text_dict_bow2_kt.pkl\")[0]\n",
    "feat7 = joblib.load(data_path+\"text_dict_tfidf1_kt.pkl\")[0]\n",
    "feat8 = joblib.load(data_path+\"text_dict_tfidf2_kt.pkl\")[0]\n",
    "feat9 = joblib.load(data_path+\"text_w2v_tfidf_kt.pkl\")[0]\n",
    "feat10 = joblib.load(data_path+\"text_pos_bow1_kt.pkl\")[0]\n"
   ]
  },
  {
   "cell_type": "code",
   "execution_count": 3,
   "metadata": {},
   "outputs": [],
   "source": [
    "from sklearn.model_selection import train_test_split\n",
    "[f1,ft1, f2, ft2, f3, ft3, f4, ft4, f5, ft5, f6, ft6, f7, ft7, f8, ft8, f9, ft9, f10, ft10, y, yt] = train_test_split(feat1, feat2, feat3, feat4, feat5, feat6, feat7, feat8, feat9, feat10, yall, test_size=0.2, random_state=0)\n",
    "\n",
    "all_feats = [(\"text_bow1_kt\", f1, ft1),\n",
    "               (\"text_bow2_kt\", f2, ft2),\n",
    "               (\"text_tfidf1_kt\", f3, ft3),\n",
    "               (\"text_tfidf2_kt\", f4, ft4),\n",
    "               (\"text_dict_bow1_kt\", f5, ft5),\n",
    "               (\"text_dict_bow2_kt\", f6, ft6),\n",
    "               (\"text_dict_tfidf1_kt\", f7, ft7),\n",
    "               (\"text_dict_tfidf2_kt\", f8, ft8),\n",
    "               (\"text_w2v_tifidf_kt\", f9, ft9),\n",
    "               (\"text_pos_bow1_kt\", f10, ft10),\n",
    "            ]\n"
   ]
  },
  {
   "cell_type": "code",
   "execution_count": 4,
   "metadata": {},
   "outputs": [],
   "source": [
    "from sklearn.datasets import dump_svmlight_file\n",
    "\n",
    "for i in range(len(all_feats)):\n",
    "    r = all_feats[i][1].shape[0]\n",
    "    rt = all_feats[i][2].shape[0]\n",
    "    y_dense = y.todense()\n",
    "    y_arr = np.array(y_dense.reshape(r,))[0]\n",
    "    yt_dense = yt.todense()\n",
    "    yt_arr = np.array(yt_dense.reshape(rt,))[0]\n",
    "\n",
    "    dump_svmlight_file(all_feats[i][1], y_arr, all_feats[i][0]+'_train.scl', zero_based=False)\n",
    "    dump_svmlight_file(all_feats[i][2], yt_arr, all_feats[i][0]+'_test.scl', zero_based=False)\n"
   ]
  }
 ],
 "metadata": {
  "interpreter": {
   "hash": "dcf7f798f4271baa32d304dbfca75a7796511e2dba41999f062f39345053eff7"
  },
  "kernelspec": {
   "display_name": "Python 3.8.8 ('base')",
   "language": "python",
   "name": "python3"
  },
  "language_info": {
   "codemirror_mode": {
    "name": "ipython",
    "version": 3
   },
   "file_extension": ".py",
   "mimetype": "text/x-python",
   "name": "python",
   "nbconvert_exporter": "python",
   "pygments_lexer": "ipython3",
   "version": "3.9.7"
  },
  "orig_nbformat": 4
 },
 "nbformat": 4,
 "nbformat_minor": 2
}
