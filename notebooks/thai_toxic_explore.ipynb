{
 "cells": [
  {
   "cell_type": "code",
   "execution_count": 1,
   "id": "b6214b7e",
   "metadata": {},
   "outputs": [],
   "source": [
    "import pandas as  pd\n",
    "from src.feature.process_thai_text import process_text\n",
    "import joblib\n",
    "import src.utilities as utils\n",
    "\n",
    "config = utils.read_config()"
   ]
  },
  {
   "cell_type": "code",
   "execution_count": 2,
   "id": "7ec0be81",
   "metadata": {},
   "outputs": [
    {
     "name": "stderr",
     "output_type": "stream",
     "text": [
      "Reusing dataset thai_toxicity_tweet (C:\\Users\\Pree\\.cache\\huggingface\\datasets\\thai_toxicity_tweet\\thai_toxicity_tweet\\1.0.0\\6156251739b83a8e57f9ed4adf0f1d134e9bfded6d2870647558fdb7a0e60306)\n",
      "100%|██████████| 1/1 [00:00<00:00, 1002.22it/s]\n"
     ]
    }
   ],
   "source": [
    "from datasets import list_datasets, load_dataset\n",
    "[item for item in list_datasets() if 'thai_toxicity_tweet' in item]\n",
    "toxic_tweet = load_dataset('thai_toxicity_tweet')"
   ]
  },
  {
   "cell_type": "code",
   "execution_count": 3,
   "id": "4b184b4a",
   "metadata": {},
   "outputs": [
    {
     "data": {
      "text/plain": [
       "DatasetDict({\n",
       "    train: Dataset({\n",
       "        features: ['tweet_id', 'tweet_text', 'toxic_votes', 'nontoxic_votes', 'is_toxic'],\n",
       "        num_rows: 3300\n",
       "    })\n",
       "})"
      ]
     },
     "execution_count": 3,
     "metadata": {},
     "output_type": "execute_result"
    }
   ],
   "source": [
    "toxic_tweet"
   ]
  },
  {
   "cell_type": "code",
   "execution_count": 4,
   "id": "08179dc0",
   "metadata": {},
   "outputs": [
    {
     "data": {
      "text/plain": [
       "13"
      ]
     },
     "execution_count": 4,
     "metadata": {},
     "output_type": "execute_result"
    }
   ],
   "source": [
    "from pathlib import Path\n",
    "root = utils.get_project_root()\n",
    "file = open(Path.joinpath(root, config['data']['processed_to']), \"w\",  encoding=\"utf-8\")\n",
    "file.write(\"text, target\\n\")  "
   ]
  },
  {
   "cell_type": "code",
   "execution_count": 5,
   "id": "a45518cc",
   "metadata": {},
   "outputs": [],
   "source": [
    "def isMissing(s):\n",
    "    if text == \"TWEET_NOT_FOUND\":\n",
    "        return True\n",
    "    elif s == \"\":\n",
    "        return True\n",
    "    return False"
   ]
  },
  {
   "cell_type": "code",
   "execution_count": null,
   "id": "854eed39",
   "metadata": {},
   "outputs": [],
   "source": [
    "for i, item in enumerate(toxic_tweet['train'][:]['tweet_text']):\n",
    "    text = item.replace(',', '')\n",
    "    text = text.replace('\\n', '')\n",
    "    label = toxic_tweet['train'][i]['is_toxic']\n",
    "    \n",
    "    # remove empty text, tweet not found, and non-label\n",
    "    if not (text == \"TWEET_NOT_FOUND\" or text == \"\"):\n",
    "        file.write(text + ',' + str(label)+ '\\n')\n",
    "file.close()"
   ]
  },
  {
   "cell_type": "code",
   "execution_count": null,
   "id": "74dcce99",
   "metadata": {},
   "outputs": [],
   "source": [
    "df = pd.read_csv(Path.joinpath(root, config['data']['processed_to']))"
   ]
  },
  {
   "cell_type": "code",
   "execution_count": null,
   "id": "b67b3e72",
   "metadata": {},
   "outputs": [],
   "source": [
    "df.head()"
   ]
  },
  {
   "cell_type": "code",
   "execution_count": null,
   "id": "62bfe71c",
   "metadata": {},
   "outputs": [],
   "source": [
    "df['text']= [' '.join(process_text(item))  for item in df['text']]"
   ]
  },
  {
   "cell_type": "code",
   "execution_count": null,
   "id": "f2877a4a",
   "metadata": {},
   "outputs": [],
   "source": [
    "df.head()"
   ]
  },
  {
   "cell_type": "code",
   "execution_count": null,
   "id": "2033d2c4",
   "metadata": {},
   "outputs": [],
   "source": [
    "Xo = df.text.to_list()"
   ]
  },
  {
   "cell_type": "code",
   "execution_count": null,
   "id": "a02ab15e",
   "metadata": {},
   "outputs": [],
   "source": [
    "y_ds = df[' target'].astype('category').cat.codes"
   ]
  },
  {
   "cell_type": "code",
   "execution_count": null,
   "id": "6df47949",
   "metadata": {},
   "outputs": [],
   "source": [
    "yo = y_ds.to_numpy()\n",
    "yo"
   ]
  },
  {
   "cell_type": "code",
   "execution_count": null,
   "id": "f0a77f28",
   "metadata": {},
   "outputs": [],
   "source": [
    "joblib.dump((Xo, yo), \"thai_toxic_tweet.sav\")"
   ]
  },
  {
   "cell_type": "code",
   "execution_count": 6,
   "id": "59b4fb75",
   "metadata": {},
   "outputs": [],
   "source": [
    "Xo, yo = joblib.load('thai_toxic_tweet.sav')"
   ]
  },
  {
   "cell_type": "code",
   "execution_count": 8,
   "id": "4c27a3d6",
   "metadata": {},
   "outputs": [
    {
     "data": {
      "text/plain": [
       "2094"
      ]
     },
     "execution_count": 8,
     "metadata": {},
     "output_type": "execute_result"
    }
   ],
   "source": [
    "len(Xo)"
   ]
  },
  {
   "cell_type": "code",
   "execution_count": 9,
   "id": "fa073803",
   "metadata": {},
   "outputs": [
    {
     "data": {
      "text/plain": [
       "2094"
      ]
     },
     "execution_count": 9,
     "metadata": {},
     "output_type": "execute_result"
    }
   ],
   "source": [
    "len(yo)"
   ]
  },
  {
   "cell_type": "code",
   "execution_count": null,
   "id": "8ad9e45b",
   "metadata": {},
   "outputs": [],
   "source": []
  }
 ],
 "metadata": {
  "kernelspec": {
   "display_name": "Python 3.9.12 ('sciGPU')",
   "language": "python",
   "name": "python3"
  },
  "language_info": {
   "codemirror_mode": {
    "name": "ipython",
    "version": 3
   },
   "file_extension": ".py",
   "mimetype": "text/x-python",
   "name": "python",
   "nbconvert_exporter": "python",
   "pygments_lexer": "ipython3",
   "version": "3.9.10"
  },
  "vscode": {
   "interpreter": {
    "hash": "67278d683e4e13f52f107db243d2a5105cc533d4ade030a7c7d7c3c729872230"
   }
  }
 },
 "nbformat": 4,
 "nbformat_minor": 5
}
