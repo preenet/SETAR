{
 "cells": [
  {
   "cell_type": "code",
   "execution_count": 37,
   "metadata": {},
   "outputs": [],
   "source": [
    " import pandas as pd\n",
    " import src.utilities as utils\n",
    " from pathlib import Path\n",
    " \n",
    " root = utils.get_project_root()\n",
    " config = utils.read_config()\n",
    " \n",
    "df_ds = pd.read_csv(Path.joinpath(root, config['data']['processed_to']))\n"
   ]
  },
  {
   "cell_type": "code",
   "execution_count": 38,
   "metadata": {},
   "outputs": [
    {
     "data": {
      "text/html": [
       "<div>\n",
       "<style scoped>\n",
       "    .dataframe tbody tr th:only-of-type {\n",
       "        vertical-align: middle;\n",
       "    }\n",
       "\n",
       "    .dataframe tbody tr th {\n",
       "        vertical-align: top;\n",
       "    }\n",
       "\n",
       "    .dataframe thead th {\n",
       "        text-align: right;\n",
       "    }\n",
       "</style>\n",
       "<table border=\"1\" class=\"dataframe\">\n",
       "  <thead>\n",
       "    <tr style=\"text-align: right;\">\n",
       "      <th></th>\n",
       "      <th>Unnamed: 0</th>\n",
       "      <th>text</th>\n",
       "      <th>target</th>\n",
       "      <th>processed</th>\n",
       "    </tr>\n",
       "  </thead>\n",
       "  <tbody>\n",
       "    <tr>\n",
       "      <th>0</th>\n",
       "      <td>0</td>\n",
       "      <td>วันๆ นี่คุยกะหมา แมว หมู ไก่ ม้า ควาย มากกว่าค...</td>\n",
       "      <td>0</td>\n",
       "      <td>['วัน', 'นี่', 'คุย', 'กะ', 'หมา', 'แมว', 'หมู...</td>\n",
       "    </tr>\n",
       "    <tr>\n",
       "      <th>1</th>\n",
       "      <td>1</td>\n",
       "      <td>หล่อมากกก หล่อวัวตายควายล้มกันเลยทีเดียวววว</td>\n",
       "      <td>0</td>\n",
       "      <td>['หล่อ', 'มาก', 'xxrep', 'หล่อ', 'วัว', 'ตาย',...</td>\n",
       "    </tr>\n",
       "    <tr>\n",
       "      <th>2</th>\n",
       "      <td>2</td>\n",
       "      <td>สิวเหี้ยไรขึ้นหลังหู เสียชาติเกิดมั้ย เกิดมามั...</td>\n",
       "      <td>0</td>\n",
       "      <td>['สิว', 'เหี้ย', 'ไร', 'ขึ้น', 'หลัง', 'หู', '...</td>\n",
       "    </tr>\n",
       "    <tr>\n",
       "      <th>3</th>\n",
       "      <td>3</td>\n",
       "      <td>อ่ะ ป่วยก็ป่วย งานจ้างก็ต้องทำ งานเรียนก็ต้องท...</td>\n",
       "      <td>0</td>\n",
       "      <td>['อ่ะ', 'ป่วย', 'ก็', 'ป่วย', 'งาน', 'จ้าง', '...</td>\n",
       "    </tr>\n",
       "    <tr>\n",
       "      <th>4</th>\n",
       "      <td>4</td>\n",
       "      <td>นี่ก็เพิ่งรู้ว่า เกิดชาตินี้ชาติเดียว เป็นทั้ง...</td>\n",
       "      <td>1</td>\n",
       "      <td>['นี่', 'ก็', 'เพิ่ง', 'รู้', 'ว่า', 'เกิด', '...</td>\n",
       "    </tr>\n",
       "  </tbody>\n",
       "</table>\n",
       "</div>"
      ],
      "text/plain": [
       "   Unnamed: 0                                               text  target  \\\n",
       "0           0  วันๆ นี่คุยกะหมา แมว หมู ไก่ ม้า ควาย มากกว่าค...       0   \n",
       "1           1        หล่อมากกก หล่อวัวตายควายล้มกันเลยทีเดียวววว       0   \n",
       "2           2  สิวเหี้ยไรขึ้นหลังหู เสียชาติเกิดมั้ย เกิดมามั...       0   \n",
       "3           3  อ่ะ ป่วยก็ป่วย งานจ้างก็ต้องทำ งานเรียนก็ต้องท...       0   \n",
       "4           4  นี่ก็เพิ่งรู้ว่า เกิดชาตินี้ชาติเดียว เป็นทั้ง...       1   \n",
       "\n",
       "                                           processed  \n",
       "0  ['วัน', 'นี่', 'คุย', 'กะ', 'หมา', 'แมว', 'หมู...  \n",
       "1  ['หล่อ', 'มาก', 'xxrep', 'หล่อ', 'วัว', 'ตาย',...  \n",
       "2  ['สิว', 'เหี้ย', 'ไร', 'ขึ้น', 'หลัง', 'หู', '...  \n",
       "3  ['อ่ะ', 'ป่วย', 'ก็', 'ป่วย', 'งาน', 'จ้าง', '...  \n",
       "4  ['นี่', 'ก็', 'เพิ่ง', 'รู้', 'ว่า', 'เกิด', '...  "
      ]
     },
     "execution_count": 38,
     "metadata": {},
     "output_type": "execute_result"
    }
   ],
   "source": [
    "df_ds.head()"
   ]
  },
  {
   "cell_type": "code",
   "execution_count": 39,
   "metadata": {},
   "outputs": [
    {
     "data": {
      "text/plain": [
       "['Unnamed: 0', 'text', 'target', 'processed']"
      ]
     },
     "execution_count": 39,
     "metadata": {},
     "output_type": "execute_result"
    }
   ],
   "source": [
    "df_ds.columns.tolist()"
   ]
  },
  {
   "cell_type": "code",
   "execution_count": 40,
   "metadata": {},
   "outputs": [
    {
     "data": {
      "text/html": [
       "<div>\n",
       "<style scoped>\n",
       "    .dataframe tbody tr th:only-of-type {\n",
       "        vertical-align: middle;\n",
       "    }\n",
       "\n",
       "    .dataframe tbody tr th {\n",
       "        vertical-align: top;\n",
       "    }\n",
       "\n",
       "    .dataframe thead th {\n",
       "        text-align: right;\n",
       "    }\n",
       "</style>\n",
       "<table border=\"1\" class=\"dataframe\">\n",
       "  <thead>\n",
       "    <tr style=\"text-align: right;\">\n",
       "      <th></th>\n",
       "      <th>Unnamed: 0</th>\n",
       "      <th>text</th>\n",
       "      <th>target</th>\n",
       "      <th>processed</th>\n",
       "    </tr>\n",
       "  </thead>\n",
       "  <tbody>\n",
       "    <tr>\n",
       "      <th>0</th>\n",
       "      <td>0</td>\n",
       "      <td>วันๆ นี่คุยกะหมา แมว หมู ไก่ ม้า ควาย มากกว่าค...</td>\n",
       "      <td>0</td>\n",
       "      <td>['วัน', 'นี่', 'คุย', 'กะ', 'หมา', 'แมว', 'หมู...</td>\n",
       "    </tr>\n",
       "    <tr>\n",
       "      <th>1</th>\n",
       "      <td>1</td>\n",
       "      <td>หล่อมากกก หล่อวัวตายควายล้มกันเลยทีเดียวววว</td>\n",
       "      <td>0</td>\n",
       "      <td>['หล่อ', 'มาก', 'xxrep', 'หล่อ', 'วัว', 'ตาย',...</td>\n",
       "    </tr>\n",
       "    <tr>\n",
       "      <th>2</th>\n",
       "      <td>2</td>\n",
       "      <td>สิวเหี้ยไรขึ้นหลังหู เสียชาติเกิดมั้ย เกิดมามั...</td>\n",
       "      <td>0</td>\n",
       "      <td>['สิว', 'เหี้ย', 'ไร', 'ขึ้น', 'หลัง', 'หู', '...</td>\n",
       "    </tr>\n",
       "    <tr>\n",
       "      <th>3</th>\n",
       "      <td>3</td>\n",
       "      <td>อ่ะ ป่วยก็ป่วย งานจ้างก็ต้องทำ งานเรียนก็ต้องท...</td>\n",
       "      <td>0</td>\n",
       "      <td>['อ่ะ', 'ป่วย', 'ก็', 'ป่วย', 'งาน', 'จ้าง', '...</td>\n",
       "    </tr>\n",
       "    <tr>\n",
       "      <th>4</th>\n",
       "      <td>4</td>\n",
       "      <td>นี่ก็เพิ่งรู้ว่า เกิดชาตินี้ชาติเดียว เป็นทั้ง...</td>\n",
       "      <td>1</td>\n",
       "      <td>['นี่', 'ก็', 'เพิ่ง', 'รู้', 'ว่า', 'เกิด', '...</td>\n",
       "    </tr>\n",
       "  </tbody>\n",
       "</table>\n",
       "</div>"
      ],
      "text/plain": [
       "   Unnamed: 0                                               text  target  \\\n",
       "0           0  วันๆ นี่คุยกะหมา แมว หมู ไก่ ม้า ควาย มากกว่าค...       0   \n",
       "1           1        หล่อมากกก หล่อวัวตายควายล้มกันเลยทีเดียวววว       0   \n",
       "2           2  สิวเหี้ยไรขึ้นหลังหู เสียชาติเกิดมั้ย เกิดมามั...       0   \n",
       "3           3  อ่ะ ป่วยก็ป่วย งานจ้างก็ต้องทำ งานเรียนก็ต้องท...       0   \n",
       "4           4  นี่ก็เพิ่งรู้ว่า เกิดชาตินี้ชาติเดียว เป็นทั้ง...       1   \n",
       "\n",
       "                                           processed  \n",
       "0  ['วัน', 'นี่', 'คุย', 'กะ', 'หมา', 'แมว', 'หมู...  \n",
       "1  ['หล่อ', 'มาก', 'xxrep', 'หล่อ', 'วัว', 'ตาย',...  \n",
       "2  ['สิว', 'เหี้ย', 'ไร', 'ขึ้น', 'หลัง', 'หู', '...  \n",
       "3  ['อ่ะ', 'ป่วย', 'ก็', 'ป่วย', 'งาน', 'จ้าง', '...  \n",
       "4  ['นี่', 'ก็', 'เพิ่ง', 'รู้', 'ว่า', 'เกิด', '...  "
      ]
     },
     "execution_count": 40,
     "metadata": {},
     "output_type": "execute_result"
    }
   ],
   "source": [
    "df_ds.head()"
   ]
  },
  {
   "cell_type": "code",
   "execution_count": 41,
   "metadata": {},
   "outputs": [],
   "source": [
    "y_to = df_ds['target'].to_numpy()"
   ]
  },
  {
   "cell_type": "code",
   "execution_count": 46,
   "metadata": {},
   "outputs": [
    {
     "data": {
      "text/plain": [
       "dtype('int64')"
      ]
     },
     "execution_count": 46,
     "metadata": {},
     "output_type": "execute_result"
    }
   ],
   "source": [
    "y_to.dtype"
   ]
  },
  {
   "cell_type": "code",
   "execution_count": 43,
   "metadata": {},
   "outputs": [],
   "source": [
    "df_ws = pd.read_csv(Path.joinpath(root, config['data']['processed_ws']))"
   ]
  },
  {
   "cell_type": "code",
   "execution_count": 44,
   "metadata": {},
   "outputs": [],
   "source": [
    "\n",
    "y_ds = df_ws['target'].astype('category').cat.codes\n",
    "y_ds = y_ds.to_numpy()"
   ]
  },
  {
   "cell_type": "code",
   "execution_count": 47,
   "metadata": {},
   "outputs": [
    {
     "data": {
      "text/plain": [
       "dtype('int8')"
      ]
     },
     "execution_count": 47,
     "metadata": {},
     "output_type": "execute_result"
    }
   ],
   "source": [
    "y_ds.dtype"
   ]
  },
  {
   "cell_type": "code",
   "execution_count": null,
   "metadata": {},
   "outputs": [],
   "source": []
  }
 ],
 "metadata": {
  "kernelspec": {
   "display_name": "Python 3.9.10 ('sciGPU')",
   "language": "python",
   "name": "python3"
  },
  "language_info": {
   "codemirror_mode": {
    "name": "ipython",
    "version": 3
   },
   "file_extension": ".py",
   "mimetype": "text/x-python",
   "name": "python",
   "nbconvert_exporter": "python",
   "pygments_lexer": "ipython3",
   "version": "3.9.10"
  },
  "orig_nbformat": 4,
  "vscode": {
   "interpreter": {
    "hash": "67278d683e4e13f52f107db243d2a5105cc533d4ade030a7c7d7c3c729872230"
   }
  }
 },
 "nbformat": 4,
 "nbformat_minor": 2
}
