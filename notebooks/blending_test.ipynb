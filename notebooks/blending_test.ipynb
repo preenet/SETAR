{
 "cells": [
  {
   "cell_type": "code",
   "execution_count": 1,
   "metadata": {},
   "outputs": [],
   "source": [
    "# quick peek for blending performance\n",
    "import src.utilities as utils\n",
    "\n",
    "import numpy as np\n",
    "import torch\n",
    "from pathlib import Path\n",
    "from src.models.camerbert import Camembert\n",
    "from sklearn.datasets import load_svmlight_file\n",
    "from sklearn.model_selection import train_test_split\n",
    "from sklearn.metrics import accuracy_score\n",
    "from sklearn.metrics import (accuracy_score, f1_score, matthews_corrcoef,\n",
    "                             precision_score, recall_score, roc_auc_score)\n",
    "\n",
    "configs = utils.read_config()\n",
    "root = utils.get_project_root()\n",
    "\n",
    "\n",
    "model_file = []\n",
    "model = Camembert()\n",
    "model.load_state_dict(torch.load(model_file))\n",
    "model.to('cuda')\n",
    "\n",
    "model_file = \n",
    "training = load_svmlight_file(\"../traindata_5.scl\")\n",
    "testing = load_svmlight_file(\"../testdata_5.scl\")"
   ]
  },
  {
   "cell_type": "code",
   "execution_count": 2,
   "metadata": {},
   "outputs": [],
   "source": [
    "X = training[0]\n",
    "y = training[1]\n",
    "\n",
    "X_test = testing[0]\n",
    "y_test = testing[1]"
   ]
  },
  {
   "cell_type": "code",
   "execution_count": 3,
   "metadata": {},
   "outputs": [],
   "source": [
    "def get_data(iii):\n",
    "    data = load_svmlight_file(\"./traindata_\"+str(iii)+\".scl\", zero_based=False)\n",
    "    data1 = load_svmlight_file(\"./testdata_\"+str(iii)+\".scl\", zero_based=False)\n",
    "    return data[0].toarray(), data[1], data1[0].toarray(), data1[1]"
   ]
  },
  {
   "cell_type": "code",
   "execution_count": 4,
   "metadata": {},
   "outputs": [],
   "source": [
    "from sklearn.svm import SVC\n",
    "from lightgbm import LGBMClassifier\n",
    "from sklearn.linear_model import LogisticRegression\n",
    "from xgboost import XGBClassifier\n",
    "from sklearn.ensemble import ExtraTreesClassifier, RandomForestClassifier\n",
    "from sklearn.naive_bayes import GaussianNB\n",
    "\n",
    "# use default parem to avoid overfitting\n",
    "def get_models():\n",
    "    models = list()\n",
    "    models.append(('SVM', SVC()))\n",
    "    models.append(('LGBM', LGBMClassifier()))\n",
    "    models.append(('LR', LogisticRegression()))\n",
    "    models.append(('RF', RandomForestClassifier()))\n",
    "    models.append(('ET', ExtraTreesClassifier()))\n",
    "    models.append(('NB' , GaussianNB()))\n",
    "    return models\n"
   ]
  },
  {
   "cell_type": "code",
   "execution_count": 5,
   "metadata": {},
   "outputs": [],
   "source": [
    "def fit_ensemble(models, X_train, X_val, y_train, y_val):\n",
    "    meta = list()\n",
    "    for _, model in models:\n",
    "        model.fit(X_train, y_train)\n",
    "        y_pred = model.predict(X_val)\n",
    "        y_pred = y_pred.reshape(len(y_pred), 1)\n",
    "        meta.append(y_pred)\n",
    "        meta = np.hstack(meta)\n",
    "        blender = LogisticRegression()\n",
    "        blender.fit(meta, y_val)\n",
    "        return blender\n",
    "\n",
    "def predict_ensemble(models, blender, X_test):\n",
    "    meta = list()\n",
    "    for _, model in models:\n",
    "        y_pred = model.predict(X_test)\n",
    "        y_pred = y_pred.reshape(len(y_pred), 1)\n",
    "        meta.append(y_pred)\n",
    "        meta = np.hstack(meta)\n",
    "        # predict\n",
    "        return blender.predict(meta)\n",
    "    \n",
    "def predict_proba_ensemble(models, blender, X_test):\n",
    "    meta = list()\n",
    "    for _, model in models:\n",
    "        y_pred = model.predict(X_test)\n",
    "        y_pred = y_pred.reshape(len(y_pred), 1)\n",
    "        meta.append(y_pred)\n",
    "        meta = np.hstack(meta)\n",
    "        return blender.predict_proba(meta)"
   ]
  },
  {
   "cell_type": "code",
   "execution_count": 6,
   "metadata": {},
   "outputs": [
    {
     "name": "stdout",
     "output_type": "stream",
     "text": [
      "Train: (1256, 50), Val: (315, 50), Test: (393, 50)\n"
     ]
    }
   ],
   "source": [
    "X_train, X_val, y_train, y_val = train_test_split(X, y, test_size=0.2, random_state=0, stratify=y)    \n",
    "\n",
    "print('Train: %s, Val: %s, Test: %s' % (X_train.shape, X_val.shape, X_test.shape))    "
   ]
  },
  {
   "cell_type": "code",
   "execution_count": 7,
   "metadata": {},
   "outputs": [],
   "source": [
    "models = get_models()\n",
    "blender = fit_ensemble(models, X_train, X_val, y_train, y_val)\n",
    "p = predict_ensemble(models, blender, X_test)\n",
    "\n",
    "pr = predict_proba_ensemble(models, blender, X_test)"
   ]
  },
  {
   "cell_type": "code",
   "execution_count": 8,
   "metadata": {},
   "outputs": [
    {
     "name": "stdout",
     "output_type": "stream",
     "text": [
      "ACC: 0.6590330788804071 , MCC: 0.4469576005784089  ,F1: 0.6456052905059707\n"
     ]
    }
   ],
   "source": [
    "# test with testing set\n",
    "ACC = accuracy_score(y_test, p)\n",
    "SENS = precision_score(y_test, p, average='macro')\n",
    "SPEC = recall_score(y_test,p, average='macro')\n",
    "MCC = matthews_corrcoef(y_test,p)\n",
    "AUC = roc_auc_score(y_test, pr, multi_class='ovo',average='macro')\n",
    "#AUC = roc_auc_score(test_y,pr[:,1]) # for binary classification problem\n",
    "F1 = 2*SENS*SPEC/(SENS+SPEC)\n",
    "\n",
    "print(\"ACC:\", ACC, \", MCC:\" , MCC, \" ,F1:\", F1)"
   ]
  },
  {
   "cell_type": "code",
   "execution_count": null,
   "metadata": {},
   "outputs": [],
   "source": []
  }
 ],
 "metadata": {
  "kernelspec": {
   "display_name": "Python 3.9.10 ('sciGPU')",
   "language": "python",
   "name": "python3"
  },
  "language_info": {
   "codemirror_mode": {
    "name": "ipython",
    "version": 3
   },
   "file_extension": ".py",
   "mimetype": "text/x-python",
   "name": "python",
   "nbconvert_exporter": "python",
   "pygments_lexer": "ipython3",
   "version": "3.9.10"
  },
  "orig_nbformat": 4,
  "vscode": {
   "interpreter": {
    "hash": "67278d683e4e13f52f107db243d2a5105cc533d4ade030a7c7d7c3c729872230"
   }
  }
 },
 "nbformat": 4,
 "nbformat_minor": 2
}
