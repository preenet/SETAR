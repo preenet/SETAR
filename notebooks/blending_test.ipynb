{
 "cells": [
  {
   "cell_type": "code",
   "execution_count": 1,
   "metadata": {},
   "outputs": [],
   "source": [
    "# quick peek for blending performance\n",
    "import src.utilities as utils\n",
    "\n",
    "import numpy as np\n",
    "import torch\n",
    "from pathlib import Path\n",
    "from src.models.camerbert import Camembert\n",
    "from sklearn.datasets import load_svmlight_file\n",
    "from sklearn.model_selection import train_test_split\n",
    "from sklearn.metrics import accuracy_score\n",
    "from sklearn.metrics import (accuracy_score, f1_score, matthews_corrcoef,\n",
    "                             precision_score, recall_score, roc_auc_score)\n",
    "\n",
    "configs = utils.read_config()\n",
    "root = utils.get_project_root()\n",
    "\n",
    "data_path = str(Path.joinpath(root, configs['data']['wangcha_tt']))\n",
    "\n",
    "# model_path = str(Path.joinpath(root, configs['wangchan_models']['tt']))\n",
    "# model = Camembert(3)\n",
    "# model.load_state_dict(torch.load(model_path + \"\\\\\" + \"model_5.pt\"))\n",
    "# model.to('cuda')\n",
    "\n",
    "# \n",
    "# training = load_svmlight_file(data_path + \"\\\\\" + \"traindata_0.scl\")\n",
    "# testing = load_svmlight_file(data_path + \"\\\\\" + \"testdata_0.scl\")\n",
    "\n",
    "\n",
    "# 0,0.7811704834605598,0.7719286558644697,0.7820570802069415,0.6593464463845761,0.908612481584267,0.7769598609825261,0,0.7760814249363868,0.7692410274514524,0.774927977335592,0.6502679211201797,0.8980011916042151,0.7720740302888224\n",
    "# 1,0.7735368956743003,0.7701945808328787,0.764833658820708,0.6414001135632532,0.89648447939151,0.7675047586033062,1,0.7582697201017812,0.7508950031034137,0.7476393520626443,0.617648678138281,0.8793021321716731,0.7492636410395849\n",
    "# 2,0.7633587786259542,0.7576760404346611,0.7873334018569911,0.648466587326923,0.9158640833247679,0.7722200759318687,2,0.7913486005089059,0.7796474478506252,0.8028301796498885,0.6810863332764473,0.9137986640086303,0.7910690043816008\n",
    "# 3,0.7659033078880407,0.7568697598876257,0.7865351012437044,0.6480003450856164,0.9048328022749854,0.7714173360645608,3,0.7455470737913485,0.7404526114907904,0.7731323671973168,0.6228960341757012,0.90760085223971,0.7564396956628016\n",
    "# 4,0.8091603053435115,0.8007530201929937,0.7999503203481001,0.6986191009463396,0.9100527632165005,0.8003514690068196,4,0.7811704834605598,0.7731898031250782,0.7834896843855411,0.6577737846325574,0.9143417395097128,0.778305668804483\n",
    "# 5,0.7379134860050891,0.7275283797729619,0.7540103470723266,0.6024059060608509,0.8884443416589578,0.7405326856432055,5,0.72264631043257,0.7154834290432759,0.7362158806727677,0.5761845995406323,0.8725510755885896,0.7257016095473667\n",
    "# 6,0.7480916030534351,0.7337196879348041,0.7541765169424745,0.6153181899551015,0.8888429780381677,0.7438074737268793,6,0.7608142493638677,0.7542837007953286,0.7844249193633294,0.6434787367887367,0.8860013167124029,0.7690590972479775\n",
    "# 7,0.7531806615776081,0.7392251374809514,0.7553157227532806,0.6175652256740024,0.9025121629492583,0.7471838125674407,7,0.8193384223918575,0.8081886829459646,0.8203589989704212,0.7181193871410597,0.926660281363529,0.8142283659027862\n",
    "# 8,0.806615776081425,0.8048494800218938,0.7898139582690925,0.6927561380311564,0.9141369445300991,0.7972608368173006,8,0.732824427480916,0.732843642507508,0.7331192821114434,0.5818007488656639,0.8682102316620792,0.7329814363957264\n",
    "# 9,0.7404580152671756,0.7270342392906111,0.7414636653304553,0.5969337020523933,0.9075209853701991,0.7341780607092636,9,0.7786259541984732,0.7699214975845411,0.8015247474933925,0.6696178018568231,0.9157241678938207,0.7854053371206206"
   ]
  },
  {
   "cell_type": "code",
   "execution_count": 2,
   "metadata": {},
   "outputs": [],
   "source": [
    "def get_data(idx):\n",
    "    data = load_svmlight_file(data_path + \"\\\\\" + \"traindata_\"+str(idx)+\".scl\", zero_based=False)\n",
    "    data1 = load_svmlight_file(data_path + \"\\\\\" + \"testdata_\"+str(idx)+\".scl\", zero_based=False)\n",
    "    return data[0].toarray(), data[1], data1[0].toarray(), data1[1]"
   ]
  },
  {
   "cell_type": "code",
   "execution_count": 3,
   "metadata": {},
   "outputs": [],
   "source": [
    "# def test(models, blender, y_test, p, pr):\n",
    "#     ACC = accuracy_score(y_test, p)\n",
    "#     SENS = precision_score(y_test, p, average='macro')\n",
    "#     SPEC = recall_score(y_test,p, average='macro')\n",
    "#     MCC = matthews_corrcoef(y_test,p)\n",
    "#     AUC = roc_auc_score(y_test, pr, multi_class='ovo',average='macro')\n",
    "#     #AUC = roc_auc_score(test_y,pr[:,1]) # for binary classification problem\n",
    "#     F1 = 2*SENS*SPEC/(SENS+SPEC)\n",
    "#     print(\"ACC:\", ACC, \", MCC:\" , MCC, \" ,F1:\", F1)"
   ]
  },
  {
   "cell_type": "code",
   "execution_count": 4,
   "metadata": {},
   "outputs": [],
   "source": [
    "Xo, yo, Xt, yt = get_data(4)"
   ]
  },
  {
   "cell_type": "markdown",
   "metadata": {},
   "source": [
    "# Check each classifier performance."
   ]
  },
  {
   "cell_type": "code",
   "execution_count": 5,
   "metadata": {},
   "outputs": [],
   "source": [
    "# from sklearn.metrics import accuracy_score\n",
    "# from sklearn.svm import SVC\n",
    "# svc = SVC()\n",
    "# svc.fit(Xo, yo)\n",
    "# y_pred = svc.predict(Xt)\n",
    "# print(accuracy_score(yt, y_pred))\n"
   ]
  },
  {
   "cell_type": "code",
   "execution_count": 6,
   "metadata": {},
   "outputs": [],
   "source": [
    "# from lightgbm import LGBMClassifier\n",
    "# lgbm = LGBMClassifier()\n",
    "# lgbm.fit(Xo, yo)\n",
    "# y_pred = lgbm.predict(Xt)\n",
    "# print(accuracy_score(yt, y_pred))"
   ]
  },
  {
   "cell_type": "code",
   "execution_count": 7,
   "metadata": {},
   "outputs": [],
   "source": [
    "# from sklearn.naive_bayes import GaussianNB\n",
    "# nb = GaussianNB()\n",
    "# nb.fit(Xo, yo)\n",
    "# y_pred = nb.predict(Xt)\n",
    "# print(accuracy_score(yt, y_pred))"
   ]
  },
  {
   "cell_type": "code",
   "execution_count": 8,
   "metadata": {},
   "outputs": [],
   "source": [
    "# from xgboost import XGBClassifier\n",
    "# xgb = XGBClassifier()\n",
    "# xgb.fit(Xo, yo)\n",
    "# y_pred = xgb.predict(Xt)\n",
    "# print(accuracy_score(yt, y_pred))"
   ]
  },
  {
   "cell_type": "code",
   "execution_count": 9,
   "metadata": {},
   "outputs": [],
   "source": [
    "# from sklearn.ensemble import ExtraTreesClassifier, RandomForestClassifier\n",
    "# et = ExtraTreesClassifier()\n",
    "# et.fit(Xo, yo)\n",
    "# y_pred = et.predict(Xt)\n",
    "# print(accuracy_score(yt, y_pred))\n",
    "\n",
    "# rf = RandomForestClassifier()\n",
    "# rf.fit(X_train, y_train)\n",
    "# y_pred = rf.predict(Xt)\n",
    "# print(accuracy_score(yt, y_pred))"
   ]
  },
  {
   "cell_type": "code",
   "execution_count": 10,
   "metadata": {},
   "outputs": [],
   "source": [
    "X_train, X_val, y_train, y_val = train_test_split(Xo, yo, test_size=0.2, random_state=0, stratify=yo)    "
   ]
  },
  {
   "cell_type": "code",
   "execution_count": 11,
   "metadata": {},
   "outputs": [],
   "source": [
    "# from sklearn.linear_model import LogisticRegression\n",
    "# # use default parem to avoid overfitting?\n",
    "# def get_models():\n",
    "#     models = list()\n",
    "#     models.append(('SVM', SVC()))\n",
    "#     models.append(('LGBM', LGBMClassifier()))\n",
    "#     models.append(('RF', RandomForestClassifier()))\n",
    "#     models.append(('ET', ExtraTreesClassifier()))\n",
    "#     models.append(('NB', GaussianNB()))\n",
    "#     return models"
   ]
  },
  {
   "cell_type": "code",
   "execution_count": 12,
   "metadata": {},
   "outputs": [],
   "source": [
    "# def fit_ensemble(models, X_train, X_val, y_train, y_val):\n",
    "#     meta = list()\n",
    "#     for _, model in models:\n",
    "#         model.fit(X_train, y_train)\n",
    "#         y_pred = model.predict(X_val)\n",
    "#         y_pred = y_pred.reshape(len(y_pred), 1)\n",
    "#         meta.append(y_pred)\n",
    "        \n",
    "#     meta = np.hstack(meta)\n",
    "#     blender = LogisticRegression()\n",
    "#     blender.fit(meta, y_val)\n",
    "#     return blender"
   ]
  },
  {
   "cell_type": "code",
   "execution_count": 13,
   "metadata": {},
   "outputs": [],
   "source": [
    "# #FIXME: get the validate accuracy out.\n",
    "# def predict_ensemble(models, blender, X_test):\n",
    "#     meta = list()\n",
    "#     for _, model in models:\n",
    "#         y_pred = model.predict(X_test)\n",
    "#         y_pred = y_pred.reshape(len(y_pred), 1)\n",
    "#         meta.append(y_pred)\n",
    "        \n",
    "#     meta = np.hstack(meta)\n",
    "#     return blender.predict(meta)\n",
    "    \n",
    "# def predict_proba_ensemble(models, blender, X_test):\n",
    "#     meta = list()\n",
    "#     for _, model in models:\n",
    "#         y_pred = model.predict(X_test)\n",
    "#         y_pred = y_pred.reshape(len(y_pred), 1)\n",
    "#         meta.append(y_pred)\n",
    "        \n",
    "#     meta = np.hstack(meta)\n",
    "#     return blender.predict_proba(meta)"
   ]
  },
  {
   "cell_type": "code",
   "execution_count": 14,
   "metadata": {},
   "outputs": [],
   "source": [
    "# models = get_models()\n",
    "# blender = fit_ensemble(models, X_train, X_val, y_train, y_val)\n",
    "# p = predict_ensemble(models, blender, Xt)\n",
    "# pr = predict_proba_ensemble(models, blender, Xt)"
   ]
  },
  {
   "cell_type": "code",
   "execution_count": 15,
   "metadata": {},
   "outputs": [],
   "source": [
    "# # TODO: performance is random for each run a bit here, we can do something with resample? or some ..random weight?\n",
    "# test(models, blender, yt, p, pr)"
   ]
  },
  {
   "cell_type": "code",
   "execution_count": 20,
   "metadata": {},
   "outputs": [
    {
     "name": "stderr",
     "output_type": "stream",
     "text": [
      "c:\\Users\\Pree\\anaconda3\\envs\\sciGPU\\lib\\site-packages\\sklearn\\linear_model\\_logistic.py:814: ConvergenceWarning: lbfgs failed to converge (status=1):\n",
      "STOP: TOTAL NO. of ITERATIONS REACHED LIMIT.\n",
      "\n",
      "Increase the number of iterations (max_iter) or scale the data as shown in:\n",
      "    https://scikit-learn.org/stable/modules/preprocessing.html\n",
      "Please also refer to the documentation for alternative solver options:\n",
      "    https://scikit-learn.org/stable/modules/linear_model.html#logistic-regression\n",
      "  n_iter_i = _check_optimize_result(\n"
     ]
    },
    {
     "name": "stdout",
     "output_type": "stream",
     "text": [
      "test_acc. 0.7735368956743003\n",
      ">lr val_acc. 0.881 (0.029)\n",
      "test_acc. 0.7709923664122137\n",
      ">knn val_acc. 0.874 (0.031)\n",
      "test_acc. 0.7633587786259542\n",
      ">rf val_acc. 0.872 (0.029)\n",
      "test_acc. 0.7760814249363868\n",
      ">svm val_acc. 0.881 (0.029)\n",
      "test_acc. 0.7709923664122137\n",
      ">bayes val_acc. 0.876 (0.030)\n"
     ]
    },
    {
     "name": "stderr",
     "output_type": "stream",
     "text": [
      "c:\\Users\\Pree\\anaconda3\\envs\\sciGPU\\lib\\site-packages\\sklearn\\linear_model\\_logistic.py:814: ConvergenceWarning: lbfgs failed to converge (status=1):\n",
      "STOP: TOTAL NO. of ITERATIONS REACHED LIMIT.\n",
      "\n",
      "Increase the number of iterations (max_iter) or scale the data as shown in:\n",
      "    https://scikit-learn.org/stable/modules/preprocessing.html\n",
      "Please also refer to the documentation for alternative solver options:\n",
      "    https://scikit-learn.org/stable/modules/linear_model.html#logistic-regression\n",
      "  n_iter_i = _check_optimize_result(\n",
      "c:\\Users\\Pree\\anaconda3\\envs\\sciGPU\\lib\\site-packages\\sklearn\\linear_model\\_logistic.py:814: ConvergenceWarning: lbfgs failed to converge (status=1):\n",
      "STOP: TOTAL NO. of ITERATIONS REACHED LIMIT.\n",
      "\n",
      "Increase the number of iterations (max_iter) or scale the data as shown in:\n",
      "    https://scikit-learn.org/stable/modules/preprocessing.html\n",
      "Please also refer to the documentation for alternative solver options:\n",
      "    https://scikit-learn.org/stable/modules/linear_model.html#logistic-regression\n",
      "  n_iter_i = _check_optimize_result(\n",
      "c:\\Users\\Pree\\anaconda3\\envs\\sciGPU\\lib\\site-packages\\sklearn\\linear_model\\_logistic.py:814: ConvergenceWarning: lbfgs failed to converge (status=1):\n",
      "STOP: TOTAL NO. of ITERATIONS REACHED LIMIT.\n",
      "\n",
      "Increase the number of iterations (max_iter) or scale the data as shown in:\n",
      "    https://scikit-learn.org/stable/modules/preprocessing.html\n",
      "Please also refer to the documentation for alternative solver options:\n",
      "    https://scikit-learn.org/stable/modules/linear_model.html#logistic-regression\n",
      "  n_iter_i = _check_optimize_result(\n"
     ]
    },
    {
     "name": "stdout",
     "output_type": "stream",
     "text": [
      "test_acc. 0.7760814249363868\n",
      ">blending val_acc. 0.878 (0.031)\n"
     ]
    },
    {
     "name": "stderr",
     "output_type": "stream",
     "text": [
      "c:\\Users\\Pree\\anaconda3\\envs\\sciGPU\\lib\\site-packages\\sklearn\\linear_model\\_logistic.py:814: ConvergenceWarning: lbfgs failed to converge (status=1):\n",
      "STOP: TOTAL NO. of ITERATIONS REACHED LIMIT.\n",
      "\n",
      "Increase the number of iterations (max_iter) or scale the data as shown in:\n",
      "    https://scikit-learn.org/stable/modules/preprocessing.html\n",
      "Please also refer to the documentation for alternative solver options:\n",
      "    https://scikit-learn.org/stable/modules/linear_model.html#logistic-regression\n",
      "  n_iter_i = _check_optimize_result(\n"
     ]
    },
    {
     "data": {
      "image/png": "[encoded data removed]",
      "text/plain": [
       "<Figure size 432x288 with 1 Axes>"
      ]
     },
     "metadata": {
      "needs_background": "light"
     },
     "output_type": "display_data"
    }
   ],
   "source": [
    "# try sklearn library\n",
    "# compare ensemble to each baseline classifier\n",
    "from numpy import mean\n",
    "from numpy import std\n",
    "from sklearn.datasets import make_classification\n",
    "from sklearn.model_selection import cross_val_score\n",
    "from sklearn.model_selection import RepeatedStratifiedKFold\n",
    "from sklearn.linear_model import LogisticRegression\n",
    "from sklearn.neighbors import KNeighborsClassifier\n",
    "from lightgbm import LGBMClassifier\n",
    "from xgboost import XGBClassifier\n",
    "from sklearn.ensemble import ExtraTreesClassifier, RandomForestClassifier\n",
    "from sklearn.tree import DecisionTreeClassifier\n",
    "from lightgbm import LGBMClassifier\n",
    "from sklearn.svm import SVC\n",
    "from sklearn.naive_bayes import GaussianNB\n",
    "from sklearn.ensemble import StackingClassifier\n",
    "from matplotlib import pyplot\n",
    " \n",
    "\n",
    "# get a stacking ensemble of models\n",
    "def get_stacking():\n",
    "\t# define the base models\n",
    "\tlevel0 = list()\n",
    "\tlevel0.append(('lr', LogisticRegression()))\n",
    "\tlevel0.append(('knn', KNeighborsClassifier()))\n",
    "\tlevel0.append(('rf', RandomForestClassifier()))\n",
    "\tlevel0.append(('svm', SVC()))\n",
    "\tlevel0.append(('bayes', GaussianNB()))\n",
    "\t# define meta learner model\n",
    "\tlevel1 = LogisticRegression()\n",
    "\t# define the stacking ensemble\n",
    "\tmodel = StackingClassifier(estimators=level0, final_estimator=level1, cv=2)\n",
    "\treturn model\n",
    " \n",
    "# get a list of models to evaluate\n",
    "def get_models():\n",
    "\tmodels = dict()\n",
    "\tmodels['lr'] = LogisticRegression()\n",
    "\tmodels['knn'] = KNeighborsClassifier()\n",
    "\tmodels['rf'] = RandomForestClassifier()\n",
    "\tmodels['svm'] = SVC()\n",
    "\tmodels['bayes'] = GaussianNB()\n",
    "\tmodels['blending'] = get_stacking()\n",
    "\treturn models\n",
    " \n",
    "# evaluate a give model using cross-validation\n",
    "def evaluate_model(model, X, y):\n",
    "\tcv = RepeatedStratifiedKFold(n_splits=10, n_repeats=3, random_state=0)\n",
    "\tscores = cross_val_score(model, X, y, scoring='accuracy', cv=cv, n_jobs=-1, error_score='raise')\n",
    "\tmodel.fit(X, y)\n",
    "\ty_pred = model.predict(Xt)\n",
    "\tprint(\"test_acc.\", accuracy_score(yt, y_pred))\n",
    "\treturn scores\n",
    " \n",
    "# get the models to evaluate\n",
    "models = get_models()\n",
    "# evaluate the models and store results\n",
    "results, names = list(), list()\n",
    "for name, model in models.items():\n",
    "\tscores = evaluate_model(model, X_train, y_train)\n",
    "\tresults.append(scores)\n",
    "\tnames.append(name)\n",
    "\tprint('>%s val_acc. %.3f (%.3f)' % (name, mean(scores), std(scores)))\n",
    "# plot model performance for comparison\n",
    "pyplot.boxplot(results, labels=names, showmeans=True)\n",
    "pyplot.show()"
   ]
  },
  {
   "cell_type": "code",
   "execution_count": 21,
   "metadata": {},
   "outputs": [],
   "source": [
    "# test with unseen"
   ]
  },
  {
   "cell_type": "code",
   "execution_count": null,
   "metadata": {},
   "outputs": [],
   "source": []
  }
 ],
 "metadata": {
  "kernelspec": {
   "display_name": "Python 3.9.10 ('sciGPU')",
   "language": "python",
   "name": "python3"
  },
  "language_info": {
   "codemirror_mode": {
    "name": "ipython",
    "version": 3
   },
   "file_extension": ".py",
   "mimetype": "text/x-python",
   "name": "python",
   "nbconvert_exporter": "python",
   "pygments_lexer": "ipython3",
   "version": "3.9.10"
  },
  "orig_nbformat": 4,
  "vscode": {
   "interpreter": {
    "hash": "67278d683e4e13f52f107db243d2a5105cc533d4ade030a7c7d7c3c729872230"
   }
  }
 },
 "nbformat": 4,
 "nbformat_minor": 2
}
